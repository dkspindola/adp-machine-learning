{
 "cells": [
  {
   "cell_type": "code",
   "execution_count": 1,
   "id": "e2b42f16",
   "metadata": {},
   "outputs": [],
   "source": [
    "import os\n",
    "import sys\n",
    "# Beispiel: setze Projekt-Root manuell (Pfad anpassen)\n",
    "project_root = os.path.abspath('..')  # oder '..' oder '../..' je nach Notebook-Ordner\n",
    "\n",
    "import json\n",
    "import joblib\n",
    "import matplotlib.pyplot as plt\n",
    "import numpy as np\n",
    "from numpy import random\n",
    "import pandas as pd\n",
    "from IPython import display  # WICHTIG für Jupyter Live-Update\n",
    "from pandasgui import show\n",
    "from tqdm import tqdm\n",
    "import seaborn as sns\n",
    "from pprint import pprint\n",
    "import pickle\n",
    "import importlib\n",
    "\n",
    "import src.execution\n",
    "import src.model\n",
    "import src.util\n",
    "\n",
    "importlib.reload(src.execution)\n",
    "importlib.reload(src.model)\n",
    "importlib.reload(src.util)\n",
    "\n",
    "from src.data import NPY\n",
    "from src.execution import CNNValidationExecution, WindowSplittingExecution, CNNTuningExecution, TrAdaBoostR2TrainingExecution\n",
    "from src.model import CNN, build_model_for_TrAdaBoostR2, tradaBoostR2_setup\n",
    "from src.util import timestamp\n",
    "import importlib"
   ]
  },
  {
   "cell_type": "markdown",
   "id": "97c392f5",
   "metadata": {},
   "source": [
    "### TradaboostR2 Modells ###\n",
    "\n",
    "TrAdaBoostR2 Modell mit drei Ausgängen auf den einzelnen Objekten aufbauen."
   ]
  },
  {
   "cell_type": "code",
   "execution_count": null,
   "id": "6a647f24",
   "metadata": {},
   "outputs": [],
   "source": [
    "dateipfad_femDaten=\"build\\\\window_split\\\\sim_data_preprocessed_offset_multiplitiv\\\\1744056915\\\\\"\n",
    "dateipfad_realDaten=\"build\\\\window_split\\\\real-data\\\\1744062620\\\\\"\n",
    "model_file = \"assets\\\\models\\\\untrained\\\\synthetic-model\\\\syn-model.h5\"\n",
    "best_learning_rate=0.0005026453831067469\n",
    "save_folder = os.path.join(\"build\", \"tradaboost_model\", \"training_30_TEST_02\")\n",
    "save_filename=\"training_09\"\n",
    "\n",
    "modell=tradaBoostR2_setup.TrAdaBoostR2ModelSetup(\n",
    "    model_path=model_file,\n",
    "    early_stoppping_model=True,\n",
    "    patience_model=2,\n",
    "    learningrate_model=best_learning_rate,\n",
    "    n_estimators_tradaBoostR2=2,\n",
    "    save_folder=save_folder,\n",
    "    epochs_model=1,  # Wert bitte setzen\n",
    "    batch_size_model=32,  # Wert bitte setzen\n",
    "    early_stoppping_TraDaBoostR2=False,  # Wert bitte setzen\n",
    "    learningrate_TraDaBoostR2=1  # Wert bitte setzen\n",
    ")\n",
    "\n",
    "training=TrAdaBoostR2TrainingExecution(tradaboostr2_model=modell,\n",
    "                                                dateipfad_source_daten=dateipfad_femDaten,\n",
    "                                                dateipfad_target_daten=dateipfad_realDaten,\n",
    "                                                use_scaled_labels=True,\n",
    "                                                model_file=model_file,\n",
    "                                                save_folder=save_folder,\n",
    "                                                save_filename=\"testmodel\",\n",
    "                                                training_dokumentation=True)\n"
   ]
  },
  {
   "cell_type": "markdown",
   "id": "76725fb1",
   "metadata": {},
   "source": [
    "### Containern 3 Modelle ###\n",
    "\n",
    "Momentan wird ein Modell mit drei ausgängen verwendet\n",
    "Weiterentwicklung: Drei Modelle, bei denen jweils der input gleich ist. "
   ]
  },
  {
   "cell_type": "code",
   "execution_count": 3,
   "id": "6a826ee4",
   "metadata": {},
   "outputs": [
    {
     "name": "stderr",
     "output_type": "stream",
     "text": [
      "WARNING:absl:You are saving your model as an HDF5 file via `model.save()` or `keras.saving.save_model(model)`. This file format is considered legacy. We recommend using instead the native Keras format, e.g. `model.save('my_model.keras')` or `keras.saving.save_model(model, 'my_model.keras')`. \n"
     ]
    },
    {
     "name": "stdout",
     "output_type": "stream",
     "text": [
      "Trial 3 Complete [00h 00m 14s]\n",
      "val_mae: 0.017685137689113617\n",
      "\n",
      "Best val_mae So Far: 0.017685137689113617\n",
      "Total elapsed time: 00h 00m 49s\n",
      "Anzahl an Conv Layers: 1\n",
      "Kernel Size 0 ist: 5\n",
      "Anzahl an Fully Connected Layers: 1\n",
      "=====================================================================\n",
      "Nach dem Modellbau\n",
      "Output-Namen: ListWrapper(['Verstellweg_Phi'])\n",
      "Loss dict: mean_absolute_error\n",
      "Metrics dict: ['loss', 'compile_metrics']\n",
      "\n",
      " Modell für   Verstellweg_Phi gespeichert:\n",
      "- Hyperparameter: build\\tune\\1743966827\\1751560585\\Verstellweg_Phi\\best-hyperparameters.json\n",
      "- Modell:         build\\tune\\1743966827\\1751560585\\Verstellweg_Phi\\best-model.h5\n"
     ]
    }
   ],
   "source": [
    "SPLITTED_DATA_FOLDER = \"build\\\\window_split\\\\sim_data_preprocessed\\\\1743966827\\\\\"\n",
    "CNNTuningExecution.execute_tuning_three_model(SPLITTED_DATA_FOLDER,max_trials=3,train_on_scled_labels=True)"
   ]
  }
 ],
 "metadata": {
  "kernelspec": {
   "display_name": "Python 3",
   "language": "python",
   "name": "python3"
  },
  "language_info": {
   "codemirror_mode": {
    "name": "ipython",
    "version": 3
   },
   "file_extension": ".py",
   "mimetype": "text/x-python",
   "name": "python",
   "nbconvert_exporter": "python",
   "pygments_lexer": "ipython3",
   "version": "3.12.1"
  }
 },
 "nbformat": 4,
 "nbformat_minor": 5
}
