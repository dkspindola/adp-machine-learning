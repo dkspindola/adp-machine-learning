{
 "cells": [
  {
   "cell_type": "code",
   "execution_count": null,
   "id": "e2b42f16",
   "metadata": {},
   "outputs": [],
   "source": [
    "import os\n",
    "import sys\n",
    "# Beispiel: setze Projekt-Root manuell (Pfad anpassen)\n",
    "project_root = os.path.abspath('..')  # oder '..' oder '../..' je nach Notebook-Ordner\n",
    "\n",
    "import json\n",
    "import joblib\n",
    "import matplotlib.pyplot as plt\n",
    "import numpy as np\n",
    "from numpy import random\n",
    "import pandas as pd\n",
    "from IPython import display  # WICHTIG für Jupyter Live-Update\n",
    "from pandasgui import show\n",
    "from tqdm import tqdm\n",
    "import seaborn as sns\n",
    "from pprint import pprint\n",
    "import pickle\n",
    "import importlib\n",
    "\n",
    "import src.execution\n",
    "import src.model\n",
    "import src.util\n",
    "\n",
    "importlib.reload(src.execution)\n",
    "importlib.reload(src.model)\n",
    "importlib.reload(src.util)\n",
    "\n",
    "from src.data import NPY\n",
    "from tensorflow.keras.models import load_model\n",
    "from src.execution import CNNValidationExecution, WindowSplittingExecution, CNNTuningExecution, TrAdaBoostR2TrainingExecution, CNNTrainingExecution, TrAdaBoostR2ModelSetup_SingleModel_Execution\n",
    "from src.model import CNN, build_model_for_TrAdaBoostR2, tradaBoostR2_setup\n",
    "from src.experiment.multiple_cnn_singla_model_training import MultipleCNNTrainingOnExistingData\n",
    "from src.experiment.multiple_trAdaBoostR2_trianings_specific_models import MultipleTrAdaBoostR2TrainingSpecificModleOutput\n",
    "from src.util import timestamp\n",
    "import importlib"
   ]
  },
  {
   "cell_type": "markdown",
   "id": "97c392f5",
   "metadata": {},
   "source": [
    "### TradaboostR2 Modells ###\n",
    "\n",
    "TrAdaBoostR2 Modell mit drei Ausgängen auf den einzelnen Objekten aufbauen."
   ]
  },
  {
   "cell_type": "code",
   "execution_count": null,
   "id": "6a647f24",
   "metadata": {},
   "outputs": [],
   "source": [
    "dateipfad_femDaten=\"build\\\\window_split\\\\sim_data_preprocessed_offset_multiplitiv\\\\1744056915\\\\\"\n",
    "dateipfad_realDaten=\"build\\\\window_split\\\\real-data\\\\1744062620\\\\\"\n",
    "model_file = \"assets\\\\models\\\\untrained\\\\synthetic-model\\\\syn-model.h5\"\n",
    "best_learning_rate=0.0005026453831067469\n",
    "save_folder = os.path.join(\"build\", \"tradaboost_model\", \"training_30_TEST_02\")\n",
    "save_filename=\"training_09\"\n",
    "\n",
    "modell=tradaBoostR2_setup.TrAdaBoostR2ModelSetup(\n",
    "    model_path=model_file,\n",
    "    early_stoppping_model=True,\n",
    "    patience_model=2,\n",
    "    learningrate_model=best_learning_rate,\n",
    "    n_estimators_tradaBoostR2=2,\n",
    "    save_folder=save_folder,\n",
    "    epochs_model=1,  # Wert bitte setzen\n",
    "    batch_size_model=32,  # Wert bitte setzen\n",
    "    early_stoppping_TraDaBoostR2=False,  # Wert bitte setzen\n",
    "    learningrate_TraDaBoostR2=1  # Wert bitte setzen\n",
    ")\n",
    "\n",
    "training=TrAdaBoostR2TrainingExecution(tradaboostr2_model=modell,\n",
    "                                                dateipfad_source_daten=dateipfad_femDaten,\n",
    "                                                dateipfad_target_daten=dateipfad_realDaten,\n",
    "                                                use_scaled_labels=True,\n",
    "                                                model_file=model_file,\n",
    "                                                save_folder=save_folder,\n",
    "                                                save_filenssame=\"testmodel\",\n",
    "                                                training_dokumentation=True)\n"
   ]
  },
  {
   "cell_type": "markdown",
   "id": "76725fb1",
   "metadata": {},
   "source": [
    "### Tuning der drei Modelle ###\n",
    "\n",
    "- Modell mit drei Ausgängen verwenden bei denen jweils der input gleich ist. \n",
    "- Raum der Suche ist bei allen Modellen gleich, deswegen nur eine matadata.json Datei\n",
    "- Tuning erfolgt auf unscalierten Daten"
   ]
  },
  {
   "cell_type": "code",
   "execution_count": null,
   "id": "6a826ee4",
   "metadata": {},
   "outputs": [],
   "source": [
    "SPLITTED_DATA_FOLDER = \"build\\\\window_split\\\\sim_data_preprocessed\\\\1743966827\\\\\"\n",
    "CNNTuningExecution.execute_tuning_three_model(SPLITTED_DATA_FOLDER,train_on_scled_labels=True)"
   ]
  },
  {
   "cell_type": "markdown",
   "id": "9f7cf591",
   "metadata": {},
   "source": [
    "---\n",
    "### Basline Modelle trainieren ###\n",
    "\n",
    "- Modell getuned auf den SImulationsdaten\n",
    "- Training auf den Realdaten und Auswertung auf den Realdaten\n",
    "- Split 80/20\n",
    "- 15 Datensätze verwenden, mit k-Fold"
   ]
  },
  {
   "cell_type": "markdown",
   "id": "cf2bfb20",
   "metadata": {},
   "source": [
    "Daten erzeugen"
   ]
  },
  {
   "cell_type": "code",
   "execution_count": null,
   "id": "2a542db3",
   "metadata": {},
   "outputs": [],
   "source": [
    "def validation_data_Mix(N: int, anteil):\n",
    "    for seed in random.randint(0, 32000, N):\n",
    "        DATA: str = \"assets/data/real-data.csv\"\n",
    "        VALIDATION_SPLIT: bool = True # If the data should also be splitted into a validation set?\n",
    "        TEST_SIZE: float = (100-anteil)/100\n",
    "        BATCH_SPLIT: bool = True\n",
    "        BATCHSIZE: int = 1800 # real-data: 1800, synthetic-data: 326\n",
    "        SEED: int = seed # Seed for random state -> Split with same seed and data will always result in the same split\n",
    "        INTERPOLATION: bool = False\n",
    "        WINDOWSIZE: int = 10\n",
    "        SEP: str = \";\" # Separator of the csv file\n",
    "        DECIMAL: str = \",\" # Decimal separator of the csv file\n",
    "        \n",
    "        WindowSplittingExecution.execute_with_scaler(DATA, \n",
    "                                        BATCH_SPLIT, \n",
    "                                        VALIDATION_SPLIT, \n",
    "                                        TEST_SIZE, \n",
    "                                        SEED, \n",
    "                                        BATCHSIZE, \n",
    "                                        INTERPOLATION, \n",
    "                                        WINDOWSIZE, \n",
    "                                        SEP, \n",
    "                                        DECIMAL)\n"
   ]
  },
  {
   "cell_type": "code",
   "execution_count": null,
   "id": "778326ff",
   "metadata": {},
   "outputs": [],
   "source": [
    "validation_data_Mix(N=15, anteil=80)\n",
    "# Alle anderen Daten sind bereits erzeugt"
   ]
  },
  {
   "cell_type": "markdown",
   "id": "70259063",
   "metadata": {},
   "source": [
    "## Training auf den Realdaten ##\n",
    "Training auf den Datenanteilen von 5%, 10%, 15%, 20%, 50%, 80%\n",
    "Siehe .py in den unterordnern"
   ]
  },
  {
   "cell_type": "code",
   "execution_count": null,
   "id": "c695a929",
   "metadata": {},
   "outputs": [],
   "source": [
    "#5% Realdaten\n",
    "dateipfad_realDaten=\"build\\\\window_split\\\\real-data\\\\Realdaten_5Prozent_Random_N15\"\n",
    "dateipfad_modell=\"assets\\\\models\\\\untrained\\\\seperated-models\"\n",
    "ergebnis_ordner=\"build\\\\train_single_models\\\\training_1_Realdaten_5Prozent_N15\"\n",
    "MultipleCNNTrainingOnExistingData(target_folder=ergebnis_ordner,folder_data=dateipfad_realDaten, folder_base_model=dateipfad_modell, \n",
    "                                  result_folder_name_initial=\"training_1_SpecificModel\")"
   ]
  },
  {
   "cell_type": "code",
   "execution_count": null,
   "id": "47342b55",
   "metadata": {},
   "outputs": [],
   "source": [
    "Model_Path=\"assets\\\\models\\\\untrained\\\\seperated-models\"\n",
    "dateipfad_realDaten=\"build\\\\window_split\\\\real-data\\\\1744062620\\\\\"\n",
    "CNNTrainingExecution.execute_three_models_training(model_folder=Model_Path, data_file=dateipfad_realDaten)"
   ]
  },
  {
   "cell_type": "markdown",
   "id": "82c7c860",
   "metadata": {},
   "source": [
    "---\n",
    "### TrAdaBoostR2 bei spezifischen Modellen für ein Output ###\n",
    "- Tradaboost trainiert auf skalierten targets, nicht wie die single models, auf unskalierten Targets.\n",
    "- ACHTUNG: Validierung des MAE auf den NICHT skalierten Daten, also dann in mm bzw rad oder grad, nciht sicher für Phi"
   ]
  },
  {
   "cell_type": "code",
   "execution_count": null,
   "id": "172c8211",
   "metadata": {},
   "outputs": [],
   "source": [
    "dateipfad_femDaten=\"build\\\\window_split\\\\sim_data_preprocessed_offset_multiplitiv\\\\1744056915\\\\\"\n",
    "dateipfad_realDaten=\"build\\\\window_split\\\\real-data\\\\1744062620\\\\\"\n",
    "model_file = \"assets\\\\models\\\\untrained\\\\seperated-models\"\n",
    "save_folder = os.path.join(\"build\", \"tradaboost_model\", \"training_30_TEST_02\")\n",
    "save_filename=\"training_09\"\n",
    "\n",
    "modell=tradaBoostR2_setup.TrAdaBoostR2ModelSetup(\n",
    "    model_path=model_file,\n",
    "    early_stoppping_model=True,\n",
    "    patience_model=2,\n",
    "    learningrate_model=None,\n",
    "    n_estimators_tradaBoostR2=2,\n",
    "    save_folder=save_folder,\n",
    "    epochs_model=1,  # Wert bitte setzen\n",
    "    batch_size_model=32,  # Wert bitte setzen\n",
    "    early_stoppping_TraDaBoostR2=False,  # Wert bitte setzen\n",
    "    learningrate_TraDaBoostR2=1  # Wert bitte setzen\n",
    ")\n",
    "\n",
    "training=TrAdaBoostR2ModelSetup_SingleModel_Execution(tradaboostr2_model=modell,\n",
    "                                                dateipfad_source_daten=dateipfad_femDaten,\n",
    "                                                dateipfad_target_daten=dateipfad_realDaten,\n",
    "                                                use_scaled_labels=True,\n",
    "                                                model_file=model_file,\n",
    "                                                save_folder=save_folder,\n",
    "                                                save_filename=\"testmodel\",\n",
    "                                                training_dokumentation=False)\n"
   ]
  },
  {
   "cell_type": "markdown",
   "id": "c3f73caa",
   "metadata": {},
   "source": [
    "Debuggen TradaBoostR2Training"
   ]
  },
  {
   "cell_type": "code",
   "execution_count": null,
   "id": "74962ab0",
   "metadata": {},
   "outputs": [],
   "source": [
    "dateipfad_femDaten=\"build\\\\window_split\\\\sim_data_preprocessed_offset_multiplitiv\\\\1744056915\\\\\"\n",
    "dateipfad_realDaten=\"build\\\\window_split\\\\real-data\\\\Realdaten_5Prozent_Random_N15\\\\\"\n",
    "model_file = \"assets\\\\models\\\\untrained\\\\seperated-models\"\n",
    "save_folder = os.path.join(\"build\", \"tradaboost_model_specifiv_for_output\", \"trAdaBoostR2_1_Realdaten_5Prozent_N15\")\n",
    "\n",
    "MultipleTrAdaBoostR2TrainingSpecificModleOutput(target_data_folder=dateipfad_realDaten, \n",
    "                                                source_data_folder=dateipfad_femDaten,\n",
    "                                                folder_base_model=model_file,\n",
    "                                                result_folder=save_folder,\n",
    "                                                result_folder_name_initial=\"trAdaBoostR2_1_SpecificModel\")"
   ]
  }
 ],
 "metadata": {
  "kernelspec": {
   "display_name": "Python 3",
   "language": "python",
   "name": "python3"
  },
  "language_info": {
   "codemirror_mode": {
    "name": "ipython",
    "version": 3
   },
   "file_extension": ".py",
   "mimetype": "text/x-python",
   "name": "python",
   "nbconvert_exporter": "python",
   "pygments_lexer": "ipython3",
   "version": "3.12.1"
  }
 },
 "nbformat": 4,
 "nbformat_minor": 5
}
