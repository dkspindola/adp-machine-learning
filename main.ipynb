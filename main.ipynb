{
 "cells": [
  {
   "cell_type": "markdown",
   "metadata": {},
   "source": [
    "WINDOW SPLIT"
   ]
  },
  {
   "cell_type": "code",
   "execution_count": null,
   "metadata": {},
   "outputs": [],
   "source": [
    "from src.execution import WindowSplittingExecution"
   ]
  },
  {
   "cell_type": "code",
   "execution_count": null,
   "metadata": {},
   "outputs": [],
   "source": [
    "DATA: str = \"assets/data/real-data.csv\"\n",
    "VALIDATION_SPLIT: bool = True # If the data should also be splitted into a validation set?\n",
    "TEST_SIZE: float = 0.6\n",
    "BATCH_SPLIT: bool = True\n",
    "BATCHSIZE: int = 1800 # real-data: 1800, synthetic-data: 326\n",
    "SEED: int = 3748 # Seed for random state -> Split with same seed and data will always result in the same split\n",
    "INTERPOLATION: bool = False\n",
    "WINDOWSIZE: int = 10\n",
    "SEP: str = \";\" # Separator of the csv file\n",
    "DECIMAL: str = \",\" # Decimal separator of the csv file\n",
    "\n",
    "\n",
    "WindowSplittingExecution.execute(DATA, \n",
    "                                 BATCH_SPLIT, \n",
    "                                 VALIDATION_SPLIT, \n",
    "                                 TEST_SIZE, \n",
    "                                 SEED, \n",
    "                                 BATCHSIZE, \n",
    "                                 INTERPOLATION, \n",
    "                                 WINDOWSIZE, \n",
    "                                 SEP, \n",
    "                                 DECIMAL)"
   ]
  },
  {
   "cell_type": "markdown",
   "metadata": {},
   "source": [
    "TUNE MODEL"
   ]
  },
  {
   "cell_type": "code",
   "execution_count": null,
   "metadata": {},
   "outputs": [],
   "source": [
    "from src.execution import CNNTuningExecution"
   ]
  },
  {
   "cell_type": "code",
   "execution_count": null,
   "metadata": {},
   "outputs": [],
   "source": [
    "SPLITTED_DATA_FOLDER = \"build/window_split/sim_data_preprocessed_offset_multiplitiv_with_rot_forces/1743718326\"\n",
    "\n",
    "CNNTuningExecution.execute(SPLITTED_DATA_FOLDER)"
   ]
  },
  {
   "cell_type": "markdown",
   "metadata": {},
   "source": [
    "TRAIN MODEL"
   ]
  },
  {
   "cell_type": "code",
   "execution_count": null,
   "metadata": {},
   "outputs": [],
   "source": [
    "from src.execution import CNNTrainingExecution"
   ]
  },
  {
   "cell_type": "code",
   "execution_count": null,
   "metadata": {},
   "outputs": [],
   "source": [
    "TUNED_MODEL_FILE = \"/home/davi/Documents/adp-machine-learning/build/tune/real-data/1743693239/real.h5\"\n",
    "DATA_FOLDER = \"build/window_split/real-data/1743522733\"\n",
    "SAVE_FILENMAME = \"cnn-20-real.h5\" # With file extension\n",
    "LEARNING_RATE = 0.0009248893590788498 # !!!!\n",
    "\n",
    "CNNTrainingExecution.execute(TUNED_MODEL_FILE, DATA_FOLDER, SAVE_FILENMAME, LEARNING_RATE)"
   ]
  },
  {
   "cell_type": "markdown",
   "metadata": {},
   "source": [
    "VALIDATE MODEL"
   ]
  },
  {
   "cell_type": "code",
   "execution_count": null,
   "metadata": {},
   "outputs": [],
   "source": [
    "from src.execution import CNNValidationExecution "
   ]
  },
  {
   "cell_type": "code",
   "execution_count": null,
   "metadata": {},
   "outputs": [],
   "source": [
    "MODEL_FOLDER = \"build/soft-start/cnn/1743863962\"\n",
    "DATA_FOLDER = \"build/window_split/real-data/1743522733\"\n",
    "\n",
    "CNNValidationExecution.execute(MODEL_FOLDER, DATA_FOLDER)"
   ]
  },
  {
   "cell_type": "code",
   "execution_count": null,
   "metadata": {},
   "outputs": [],
   "source": [
    "from src.execution import CNNSoftStartExecution"
   ]
  },
  {
   "cell_type": "code",
   "execution_count": null,
   "metadata": {},
   "outputs": [],
   "source": [
    "MODEL_FILE = \"build/train/cnn-synthetic-data-offset/1742244525/cnn-synthetic-offset.h5\"\n",
    "DATA_FOLDER = \"build/window_split/real-data/1742552872\"\n",
    "SAVE_FILENAME = \"cnn-retrained.h5\"\n",
    "LEARNING_RATE = 0.000029335291375872573\n",
    "\n",
    "CNNSoftStartExecution.execute(MODEL_FILE, DATA_FOLDER, SAVE_FILENAME, LEARNING_RATE)"
   ]
  },
  {
   "cell_type": "code",
   "execution_count": null,
   "metadata": {},
   "outputs": [],
   "source": [
    "from src.experiment import MultipleCNNTrainingExperiment"
   ]
  },
  {
   "cell_type": "code",
   "execution_count": null,
   "metadata": {},
   "outputs": [],
   "source": [
    "MultipleCNNTrainingExperiment.start(N=10, \n",
    "                                    test_size=0.2, \n",
    "                                    model_file=\"build/tune/real-data/1743693239/best_model.h5\", \n",
    "                                    data_file=\"assets/data/real-data.csv\",\n",
    "                                    learning_rate=0.0009248893590788498, \n",
    "                                    generate_new_split=True,\n",
    "                                    sep=\";\",\n",
    "                                    decimal=\",\", \n",
    "                                    batchsize=1800, \n",
    "                                    batch_split=True)"
   ]
  },
  {
   "cell_type": "code",
   "execution_count": null,
   "metadata": {},
   "outputs": [],
   "source": [
    "from src.experiment import SoftStartExperiment"
   ]
  },
  {
   "cell_type": "code",
   "execution_count": null,
   "metadata": {},
   "outputs": [],
   "source": [
    "SoftStartExperiment.run(model_file=\"build/train/syn-off-mul/1743673354/cnn.h5\", \n",
    "                        data_folder=\"build/window_split/real-data/1743939075\",\n",
    "                        lr_factors=[0.1],\n",
    "                        unfreezed_layers=[3, 4, 6, 7, 8, 12 ])"
   ]
  },
  {
   "cell_type": "code",
   "execution_count": null,
   "metadata": {},
   "outputs": [],
   "source": [
    "from src.experiment import MultipleCNNValidationExperiment"
   ]
  },
  {
   "cell_type": "code",
   "execution_count": null,
   "metadata": {},
   "outputs": [],
   "source": [
    "MODEL_FOLDER = \"build/soft-start/var-layers-80\"\n",
    "N = 7\n",
    "MAKE_VALIDATION = True\n",
    "DATA_FOLDER = None\n",
    "\n",
    "MultipleCNNValidationExperiment.start(MODEL_FOLDER, N, MAKE_VALIDATION, DATA_FOLDER)"
   ]
  },
  {
   "cell_type": "code",
   "execution_count": null,
   "metadata": {},
   "outputs": [],
   "source": [
    "from src.execution import CNNValidationExecution"
   ]
  },
  {
   "cell_type": "code",
   "execution_count": null,
   "metadata": {},
   "outputs": [],
   "source": [
    "import os\n",
    "\n",
    "DATA_FOLDER = \"build/window_split/real-data\"\n",
    "N = 10\n",
    "\n",
    "for data_folder in DATA_FOLDER:\n",
    "    folders = sorted([f.path for f in os.scandir(DATA_FOLDER) if f.is_dir()])\n",
    "\n",
    "for data_folder in folders[-N:]:\n",
    "    CNNValidationExecution.execute(model_folder=\"assets/models/corvin/0\", \n",
    "                                   data_folder=data_folder)\n"
   ]
  },
  {
   "cell_type": "code",
   "execution_count": null,
   "metadata": {},
   "outputs": [],
   "source": [
    "import keras"
   ]
  },
  {
   "cell_type": "code",
   "execution_count": null,
   "metadata": {},
   "outputs": [],
   "source": [
    "m =  keras.models.load_model(\"build/tune/sim_data_preprocessed_offset_multiplitiv/1743667824/best-model.h5\")\n",
    "print(m.summary())"
   ]
  }
 ],
 "metadata": {
  "kernelspec": {
   "display_name": "adp",
   "language": "python",
   "name": "python3"
  },
  "language_info": {
   "codemirror_mode": {
    "name": "ipython",
    "version": 3
   },
   "file_extension": ".py",
   "mimetype": "text/x-python",
   "name": "python",
   "nbconvert_exporter": "python",
   "pygments_lexer": "ipython3",
   "version": "3.12.3"
  }
 },
 "nbformat": 4,
 "nbformat_minor": 2
}
