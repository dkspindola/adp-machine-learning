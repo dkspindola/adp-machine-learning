{
 "cells": [
  {
   "cell_type": "markdown",
   "metadata": {},
   "source": [
    "WINDOW SPLIT"
   ]
  },
  {
   "cell_type": "code",
   "execution_count": null,
   "metadata": {},
   "outputs": [],
   "source": [
    "from src.execution import WindowSplittingExecution\n",
    "from numpy import random\n",
    "import os"
   ]
  },
  {
   "cell_type": "code",
   "execution_count": null,
   "metadata": {},
   "outputs": [],
   "source": [
    "DATA: str = \"assets/data/real-data.csv\"\n",
    "VALIDATION_SPLIT: bool = True # If the data should also be splitted into a validation set?\n",
    "#TEST_SIZE: float = 0.4\n",
    "BATCH_SPLIT: bool = True\n",
    "BATCHSIZE: int = 1800 # real-data: 1800, synthetic-data: 326\n",
    "#SEED: int = 6378 # Seed for random state -> Split with same seed and data will always result in the same split\n",
    "INTERPOLATION: bool = False\n",
    "WINDOWSIZE: int = 10\n",
    "SEP: str = \";\" # Separator of the csv file\n",
    "DECIMAL: str = \",\" # Decimal separator of the csv file\n",
    "\n",
    "for test_size in [0.95, 0.9, 0.85, 0.8, 0.5]:\n",
    "    seeds: list[int] = random.randint(0, 32000, 10)\n",
    "    for seed in seeds:\n",
    "        WindowSplittingExecution.execute(DATA, \n",
    "                                 BATCH_SPLIT, \n",
    "                                 VALIDATION_SPLIT, \n",
    "                                 test_size, \n",
    "                                 seed, \n",
    "                                 BATCHSIZE, \n",
    "                                 INTERPOLATION, \n",
    "                                 WINDOWSIZE, \n",
    "                                 SEP, \n",
    "                                 DECIMAL)"
   ]
  },
  {
   "cell_type": "markdown",
   "metadata": {},
   "source": [
    "TUNE MODEL"
   ]
  },
  {
   "cell_type": "code",
   "execution_count": null,
   "metadata": {},
   "outputs": [],
   "source": [
    "from src.execution import CNNTuningExecution"
   ]
  },
  {
   "cell_type": "code",
   "execution_count": null,
   "metadata": {},
   "outputs": [],
   "source": [
    "import os\n",
    "\n",
    "folder = sorted([f.path for f in os.scandir(\"build/window_split/tune_test\") if f.is_dir()])\n",
    "\n",
    "for folder in folder:\n",
    "    CNNTuningExecution.execute(folder)\n"
   ]
  },
  {
   "cell_type": "code",
   "execution_count": null,
   "metadata": {},
   "outputs": [],
   "source": [
    "from src.experiment import MultipleCNNTrainingExperiment\n",
    "from src.execution import CNNTrainingExecution\n",
    "import json\n",
    "import os\n",
    "\n",
    "data_folders = sorted([f.path for f in os.scandir(\"build/tune/tune_test\") if f.is_dir()])\n",
    "\n",
    "for folder in data_folders:\n",
    "    best_hp = json.load(open(f\"{folder}/best-hyperparameters.json\", \"r\"))\n",
    "    meta= json.load(open(f\"{folder}/metadata.json\", \"r\"))\n",
    "\n",
    "    CNNTrainingExecution.execute(f\"{folder}/best-model.h5\", meta[\"data\"], \"cnn.h5\", best_hp[\"learning_rate\"])"
   ]
  },
  {
   "cell_type": "markdown",
   "metadata": {},
   "source": [
    "TRAIN MODEL"
   ]
  },
  {
   "cell_type": "code",
   "execution_count": null,
   "metadata": {},
   "outputs": [],
   "source": [
    "from src.execution import CNNTrainingExecution\n",
    "import os\n",
    "import json"
   ]
  },
  {
   "cell_type": "code",
   "execution_count": null,
   "metadata": {},
   "outputs": [],
   "source": [
    "DATA_FOLDER = \"build/window_split/real-data/1744034830\"\n",
    "SAVE_FILENMAME = \"cnn.h5\" # With file extension\n",
    "\n",
    "data_folders = sorted([f.path for f in os.scandir(\"build/tune/tune_test\") if f.is_dir()])\n",
    "\n",
    "for folder in data_folders:\n",
    "    best_hp = json.load(open(f\"{folder}/best-hyperparameters.json\", \"r\"))\n",
    "\n",
    "    CNNTrainingExecution.execute(f\"{folder}/best-model.h5\", DATA_FOLDER, \"cnn.h5\", best_hp[\"learning_rate\"])"
   ]
  },
  {
   "cell_type": "markdown",
   "metadata": {},
   "source": [
    "VALIDATE MODEL"
   ]
  },
  {
   "cell_type": "code",
   "execution_count": null,
   "metadata": {},
   "outputs": [],
   "source": [
    "from src.execution import CNNValidationExecution "
   ]
  },
  {
   "cell_type": "code",
   "execution_count": null,
   "metadata": {},
   "outputs": [],
   "source": [
    "MODEL_FILE = \"build/soft-start/cnn/1743863962\"\n",
    "DATA_FOLDER = \"build/window_split/real-data/1743522733\"\n",
    "\n",
    "CNNValidationExecution.execute(MODEL_FILE, DATA_FOLDER)"
   ]
  },
  {
   "cell_type": "markdown",
   "metadata": {},
   "source": []
  },
  {
   "cell_type": "code",
   "execution_count": null,
   "metadata": {},
   "outputs": [],
   "source": [
    "from src.execution import CNNSoftStartExecution"
   ]
  },
  {
   "cell_type": "code",
   "execution_count": null,
   "metadata": {},
   "outputs": [],
   "source": [
    "MODEL_FILE = \"build/train/cnn-synthetic-data-offset/1742244525/cnn-synthetic-offset.h5\"\n",
    "DATA_FOLDER = \"build/window_split/real-data/1742552872\"\n",
    "SAVE_FILENAME = \"cnn-retrained.h5\"\n",
    "LEARNING_RATE = 0.000029335291375872573\n",
    "\n",
    "CNNSoftStartExecution.execute(MODEL_FILE, DATA_FOLDER, SAVE_FILENAME, LEARNING_RATE)"
   ]
  },
  {
   "cell_type": "code",
   "execution_count": null,
   "metadata": {},
   "outputs": [],
   "source": [
    "from src.experiment import MultipleCNNTrainingExperiment"
   ]
  },
  {
   "cell_type": "code",
   "execution_count": null,
   "metadata": {},
   "outputs": [],
   "source": [
    "MultipleCNNTrainingExperiment.start(N=3, \n",
    "                                    test_size=0.8, \n",
    "                                    model_file=\"assets/models/untrained/sim_data_preprocessed_offset_multiplitiv/1743667824/best-model.h5\", \n",
    "                                    data_file=\"assets/data/upsampled/sim_data_preprocessed_upsampled.csv\",\n",
    "                                    learning_rate=0.0005110140569138342, \n",
    "                                    generate_new_split=True,\n",
    "                                    sep=\";\",\n",
    "                                    decimal=\".\", \n",
    "                                    batchsize=1800, \n",
    "                                    batch_split=True, \n",
    "                                    interpolation=False)"
   ]
  },
  {
   "cell_type": "code",
   "execution_count": null,
   "metadata": {},
   "outputs": [],
   "source": [
    "from src.experiment import SoftStartExperiment"
   ]
  },
  {
   "cell_type": "code",
   "execution_count": null,
   "metadata": {},
   "outputs": [],
   "source": [
    "import os \n",
    "\n",
    "DATA_FOLDER = \"build/window_split/soft-start\"\n",
    "MODEL_FILE = \"assets/models/untrained/sim_data_preprocessed/1743665223/best-model.h5\"\n",
    "\n",
    "data_folders = sorted([f.path for f in os.scandir(DATA_FOLDER) if f.is_dir()])\n",
    "\n",
    "for data_folder in data_folders:\n",
    "    SoftStartExperiment.run(model_file=MODEL_FILE, \n",
    "                            data_folder=data_folder,\n",
    "                            lr_factors=[0.1],\n",
    "                            unfreezed_layers=[12])"
   ]
  },
  {
   "cell_type": "code",
   "execution_count": null,
   "metadata": {},
   "outputs": [],
   "source": [
    "from src.experiment import MultipleCNNValidationExperiment"
   ]
  },
  {
   "cell_type": "markdown",
   "metadata": {},
   "source": [
    "VALIDATEEEEE"
   ]
  },
  {
   "cell_type": "code",
   "execution_count": null,
   "metadata": {},
   "outputs": [],
   "source": [
    "import os\n",
    "from src.experiment import MultipleCNNValidationExperiment\n",
    "N = 8\n",
    "MAKE_VALIDATION = True\n",
    "\n",
    "MultipleCNNValidationExperiment.start(\"build/train/diff-models-trained-on-same-80\", N, MAKE_VALIDATION, None)"
   ]
  },
  {
   "cell_type": "code",
   "execution_count": null,
   "metadata": {},
   "outputs": [],
   "source": [
    "from src.execution import CNNValidationExecution"
   ]
  },
  {
   "cell_type": "code",
   "execution_count": null,
   "metadata": {},
   "outputs": [],
   "source": [
    "import os\n",
    "\n",
    "DATA_FOLDER = \"build/window_split/real-data-20\"\n",
    "N = 10\n",
    "\n",
    "for data_folder in DATA_FOLDER:\n",
    "    folder = sorted([f.path for f in os.scandir(DATA_FOLDER) if f.is_dir()])\n",
    "\n",
    "for data_folder in folder[-N:]:\n",
    "    CNNValidationExecution.execute(model_folder=\"\", \n",
    "                                   data_folder=data_folder)\n"
   ]
  },
  {
   "cell_type": "code",
   "execution_count": null,
   "metadata": {},
   "outputs": [],
   "source": [
    "import os\n",
    "import json\n",
    "import pandas as pd\n",
    "from pandas import DataFrame\n",
    "\n",
    "\n",
    "FOLDER = \"build/validate/real-20-real\"\n",
    "folder = sorted([f.path for f in os.scandir(FOLDER) if f.is_dir()])\n",
    "\n",
    "df = DataFrame(columns=[\"Verstellweg_Phi_loss\", \n",
    "                        \"Verstellweg_Phi_mean_absolute_error\", \n",
    "                        \"Verstellweg_X_loss\", \n",
    "                        \"Verstellweg_X_mean_absolute_error\",\n",
    "                        \"Verstellweg_Y_loss\",\n",
    "                        \"Verstellweg_Y_mean_absolute_error\",\n",
    "                        \"loss\"])\n",
    "\n",
    "for folder in folder:\n",
    "    with open(os.path.join(folder, \"validation_results.json\"), \"r\") as file:\n",
    "        d = json.load(file)\n",
    "        results = d[\"results\"]\n",
    "        df = pd.concat([df, pd.DataFrame([results])], ignore_index=True)\n",
    "\n",
    "# Calculate mean and variance for each column\n",
    "mean_values = df.mean()\n",
    "variance_values = df.std()\n",
    "\n",
    "print(\"Mean values:\")\n",
    "print(mean_values)\n",
    "\n",
    "print(\"\\nStd values:\")\n",
    "print(variance_values)\n"
   ]
  },
  {
   "cell_type": "code",
   "execution_count": null,
   "metadata": {},
   "outputs": [],
   "source": [
    "from src.show import plot_mean_with_uncertainty\n",
    "\n",
    "plot_mean_with_uncertainty(\"build/validate_average/plot-this\")"
   ]
  },
  {
   "cell_type": "code",
   "execution_count": null,
   "metadata": {},
   "outputs": [],
   "source": [
    "import numpy as np\n",
    "\n",
    "array = np.load('build/window_split/experiment-data-subset_used-1/1744619892/x-train-scaled.npy')\n",
    "print(len(array))"
   ]
  }
 ],
 "metadata": {
  "kernelspec": {
   "display_name": "Python 3",
   "language": "python",
   "name": "python3"
  },
  "language_info": {
   "codemirror_mode": {
    "name": "ipython",
    "version": 3
   },
   "file_extension": ".py",
   "mimetype": "text/x-python",
   "name": "python",
   "nbconvert_exporter": "python",
   "pygments_lexer": "ipython3",
   "version": "3.12.1"
  }
 },
 "nbformat": 4,
 "nbformat_minor": 2
}
