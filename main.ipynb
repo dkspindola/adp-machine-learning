{
 "cells": [
  {
   "cell_type": "markdown",
   "metadata": {},
   "source": [
    "SPLIT DATA (WINDOWING)"
   ]
  },
  {
   "cell_type": "code",
   "execution_count": 3,
   "metadata": {},
   "outputs": [],
   "source": [
    "from src.execution import WindowSplittingExecution"
   ]
  },
  {
   "cell_type": "code",
   "execution_count": 4,
   "metadata": {},
   "outputs": [
    {
     "name": "stdout",
     "output_type": "stream",
     "text": [
      "Anzahl an Bleche in der Gesamtmatrix 182\n",
      "(5752, 1, 3)\n",
      "Shape für die Features der gesamten Trainingsdaten, also im Falle einer Interpolation mit allen Daten (46009, 10, 11)\n",
      "Shape für die Features der gesamten Testdaten, also im Falle einer Interpolation mit allen Daten (5752, 10, 11) \n",
      "Shape für die Labels der gesamten Trainingsdaten, also im Falle einer Interpolation mit allen Daten (46009, 1, 3)\n",
      "Shape für die Labels der gesamten Testdaten, also im Falle einer Interpolation mit allen Daten (5752, 1, 3)\n",
      "Data saved in build/window_split/synthetic-data-offset/1742239499\n"
     ]
    }
   ],
   "source": [
    "DATA: str = \"assets/synthetic-data-offset.csv\"\n",
    "VALIDATION_SPLIT: bool = True # If the data should also be splitted into a validation set?\n",
    "TEST_SIZE: float = 0.2\n",
    "BATCH_SPLIT: bool = False \n",
    "BATCHSIZE: int = 326 # real-data: 1800, synthetic-data: 326\n",
    "SEED: int = 42 # Seed for random state -> Split with same seed and data will always result in the same split\n",
    "INTERPOLATION: bool = False\n",
    "WINDOWSIZE: int = 10\n",
    "SEP: str = \";\" # Separator of the csv file\n",
    "DECIMAL: str = \".\" # Decimal separator of the csv file\n",
    "\n",
    "\n",
    "WindowSplittingExecution.execute(DATA, \n",
    "                                 BATCH_SPLIT, \n",
    "                                 VALIDATION_SPLIT, \n",
    "                                 TEST_SIZE, \n",
    "                                 SEED, \n",
    "                                 BATCHSIZE, \n",
    "                                 INTERPOLATION, \n",
    "                                 WINDOWSIZE, \n",
    "                                 SEP, \n",
    "                                 DECIMAL)"
   ]
  },
  {
   "cell_type": "markdown",
   "metadata": {},
   "source": [
    "TUNE MODEL"
   ]
  },
  {
   "cell_type": "code",
   "execution_count": 5,
   "metadata": {},
   "outputs": [],
   "source": [
    "from src.execution import CNNTuningExecution"
   ]
  },
  {
   "cell_type": "code",
   "execution_count": 6,
   "metadata": {},
   "outputs": [
    {
     "name": "stdout",
     "output_type": "stream",
     "text": [
      "Trial 30 Complete [00h 01m 10s]\n",
      "val_loss: 2.7855777740478516\n",
      "\n",
      "Best val_loss So Far: 0.7809644937515259\n",
      "Total elapsed time: 00h 49m 35s\n",
      "All available hyperparameters:\n",
      "{'num_layers_conv': 0, 'learning_rate': 0.00029335291375872573, 'num_layers_fully': 4, 'units_dense0': 192, 'activation_dense0': 'tanh', 'l2_dense0': 0.001, 'units_conv0': 2, 'activation_conv0': 'relu', 'kernel_0': 5, 'l2_conv0': 0.004, 'units_conv1': 2, 'activation_conv1': 'relu', 'kernel_1': 3, 'l2_conv1': 0.003, 'units_conv2': 7, 'activation_conv2': 'tanh', 'kernel_2': 5, 'l2_conv2': 0.004, 'units_conv3': 14, 'activation_conv3': 'tanh', 'kernel_3': 2, 'l2_conv3': 0.0, 'units_conv4': 13, 'activation_conv4': 'relu', 'kernel_4': 3, 'l2_conv4': 0.001, 'units_dense1': 512, 'activation_dense1': 'relu', 'l2_dense1': 0.004, 'units_dense2': 480, 'activation_dense2': 'relu', 'l2_dense2': 0.007, 'units_dense3': 320, 'activation_dense3': 'tanh', 'l2_dense3': 0.01, 'units_dense4': 448, 'activation_dense4': 'tanh', 'l2_dense4': 0.001, 'units_dense5': 128, 'activation_dense5': 'relu', 'l2_dense5': 0.01, 'units_dense6': 224, 'activation_dense6': 'tanh', 'l2_dense6': 0.0, 'units_dense7': 352, 'activation_dense7': 'tanh', 'l2_dense7': 0.002, 'units_dense8': 160, 'activation_dense8': 'relu', 'l2_dense8': 0.01, 'units_dense9': 224, 'activation_dense9': 'tanh', 'l2_dense9': 0.0, 'units_dense10': 64, 'activation_dense10': 'tanh', 'l2_dense10': 0.0, 'units_dense11': 512, 'activation_dense11': 'relu', 'l2_dense11': 0.005, 'units_dense12': 32, 'activation_dense12': 'relu', 'l2_dense12': 0.005, 'units_dense13': 352, 'activation_dense13': 'tanh', 'l2_dense13': 0.009000000000000001, 'units_dense14': 320, 'activation_dense14': 'relu', 'l2_dense14': 0.01, 'units_conv5': 10, 'activation_conv5': 'tanh', 'kernel_5': 4, 'l2_conv5': 0.001}\n",
      "Best number of convolutional layers: 0\n",
      "Best number of fully connected layers: 4\n",
      "Best units_dense0: 192\n",
      "Best activation_dense0: tanh\n",
      "Best units_dense1: 512\n",
      "Best activation_dense1: relu\n",
      "Best units_dense2: 480\n",
      "Best activation_dense2: relu\n",
      "Best units_dense3: 320\n",
      "Best activation_dense3: tanh\n",
      "Anzahl an Conv Layers: 0\n",
      "Anzahl an Fully Connected Layers: 4\n"
     ]
    },
    {
     "data": {
      "text/html": [
       "<pre style=\"white-space:pre;overflow-x:auto;line-height:normal;font-family:Menlo,'DejaVu Sans Mono',consolas,'Courier New',monospace\"><span style=\"font-weight: bold\">Model: \"functional_1\"</span>\n",
       "</pre>\n"
      ],
      "text/plain": [
       "\u001b[1mModel: \"functional_1\"\u001b[0m\n"
      ]
     },
     "metadata": {},
     "output_type": "display_data"
    },
    {
     "data": {
      "text/html": [
       "<pre style=\"white-space:pre;overflow-x:auto;line-height:normal;font-family:Menlo,'DejaVu Sans Mono',consolas,'Courier New',monospace\">┏━━━━━━━━━━━━━━━━━━━━━┳━━━━━━━━━━━━━━━━━━━┳━━━━━━━━━━━━┳━━━━━━━━━━━━━━━━━━━┓\n",
       "┃<span style=\"font-weight: bold\"> Layer (type)        </span>┃<span style=\"font-weight: bold\"> Output Shape      </span>┃<span style=\"font-weight: bold\">    Param # </span>┃<span style=\"font-weight: bold\"> Connected to      </span>┃\n",
       "┡━━━━━━━━━━━━━━━━━━━━━╇━━━━━━━━━━━━━━━━━━━╇━━━━━━━━━━━━╇━━━━━━━━━━━━━━━━━━━┩\n",
       "│ input_layer_1       │ (<span style=\"color: #00d7ff; text-decoration-color: #00d7ff\">None</span>, <span style=\"color: #00af00; text-decoration-color: #00af00\">10</span>, <span style=\"color: #00af00; text-decoration-color: #00af00\">11</span>)    │          <span style=\"color: #00af00; text-decoration-color: #00af00\">0</span> │ -                 │\n",
       "│ (<span style=\"color: #0087ff; text-decoration-color: #0087ff\">InputLayer</span>)        │                   │            │                   │\n",
       "├─────────────────────┼───────────────────┼────────────┼───────────────────┤\n",
       "│ flatten_1 (<span style=\"color: #0087ff; text-decoration-color: #0087ff\">Flatten</span>) │ (<span style=\"color: #00d7ff; text-decoration-color: #00d7ff\">None</span>, <span style=\"color: #00af00; text-decoration-color: #00af00\">110</span>)       │          <span style=\"color: #00af00; text-decoration-color: #00af00\">0</span> │ input_layer_1[<span style=\"color: #00af00; text-decoration-color: #00af00\">0</span>]… │\n",
       "├─────────────────────┼───────────────────┼────────────┼───────────────────┤\n",
       "│ dense_13 (<span style=\"color: #0087ff; text-decoration-color: #0087ff\">Dense</span>)    │ (<span style=\"color: #00d7ff; text-decoration-color: #00d7ff\">None</span>, <span style=\"color: #00af00; text-decoration-color: #00af00\">192</span>)       │     <span style=\"color: #00af00; text-decoration-color: #00af00\">21,312</span> │ flatten_1[<span style=\"color: #00af00; text-decoration-color: #00af00\">0</span>][<span style=\"color: #00af00; text-decoration-color: #00af00\">0</span>]   │\n",
       "├─────────────────────┼───────────────────┼────────────┼───────────────────┤\n",
       "│ dense_14 (<span style=\"color: #0087ff; text-decoration-color: #0087ff\">Dense</span>)    │ (<span style=\"color: #00d7ff; text-decoration-color: #00d7ff\">None</span>, <span style=\"color: #00af00; text-decoration-color: #00af00\">512</span>)       │     <span style=\"color: #00af00; text-decoration-color: #00af00\">98,816</span> │ dense_13[<span style=\"color: #00af00; text-decoration-color: #00af00\">0</span>][<span style=\"color: #00af00; text-decoration-color: #00af00\">0</span>]    │\n",
       "├─────────────────────┼───────────────────┼────────────┼───────────────────┤\n",
       "│ dense_15 (<span style=\"color: #0087ff; text-decoration-color: #0087ff\">Dense</span>)    │ (<span style=\"color: #00d7ff; text-decoration-color: #00d7ff\">None</span>, <span style=\"color: #00af00; text-decoration-color: #00af00\">480</span>)       │    <span style=\"color: #00af00; text-decoration-color: #00af00\">246,240</span> │ dense_14[<span style=\"color: #00af00; text-decoration-color: #00af00\">0</span>][<span style=\"color: #00af00; text-decoration-color: #00af00\">0</span>]    │\n",
       "├─────────────────────┼───────────────────┼────────────┼───────────────────┤\n",
       "│ dense_16 (<span style=\"color: #0087ff; text-decoration-color: #0087ff\">Dense</span>)    │ (<span style=\"color: #00d7ff; text-decoration-color: #00d7ff\">None</span>, <span style=\"color: #00af00; text-decoration-color: #00af00\">320</span>)       │    <span style=\"color: #00af00; text-decoration-color: #00af00\">153,920</span> │ dense_15[<span style=\"color: #00af00; text-decoration-color: #00af00\">0</span>][<span style=\"color: #00af00; text-decoration-color: #00af00\">0</span>]    │\n",
       "├─────────────────────┼───────────────────┼────────────┼───────────────────┤\n",
       "│ Verstellweg_X       │ (<span style=\"color: #00d7ff; text-decoration-color: #00d7ff\">None</span>, <span style=\"color: #00af00; text-decoration-color: #00af00\">1</span>)         │        <span style=\"color: #00af00; text-decoration-color: #00af00\">321</span> │ dense_16[<span style=\"color: #00af00; text-decoration-color: #00af00\">0</span>][<span style=\"color: #00af00; text-decoration-color: #00af00\">0</span>]    │\n",
       "│ (<span style=\"color: #0087ff; text-decoration-color: #0087ff\">Dense</span>)             │                   │            │                   │\n",
       "├─────────────────────┼───────────────────┼────────────┼───────────────────┤\n",
       "│ Verstellweg_Y       │ (<span style=\"color: #00d7ff; text-decoration-color: #00d7ff\">None</span>, <span style=\"color: #00af00; text-decoration-color: #00af00\">1</span>)         │        <span style=\"color: #00af00; text-decoration-color: #00af00\">321</span> │ dense_16[<span style=\"color: #00af00; text-decoration-color: #00af00\">0</span>][<span style=\"color: #00af00; text-decoration-color: #00af00\">0</span>]    │\n",
       "│ (<span style=\"color: #0087ff; text-decoration-color: #0087ff\">Dense</span>)             │                   │            │                   │\n",
       "├─────────────────────┼───────────────────┼────────────┼───────────────────┤\n",
       "│ Verstellweg_Phi     │ (<span style=\"color: #00d7ff; text-decoration-color: #00d7ff\">None</span>, <span style=\"color: #00af00; text-decoration-color: #00af00\">1</span>)         │        <span style=\"color: #00af00; text-decoration-color: #00af00\">321</span> │ dense_16[<span style=\"color: #00af00; text-decoration-color: #00af00\">0</span>][<span style=\"color: #00af00; text-decoration-color: #00af00\">0</span>]    │\n",
       "│ (<span style=\"color: #0087ff; text-decoration-color: #0087ff\">Dense</span>)             │                   │            │                   │\n",
       "└─────────────────────┴───────────────────┴────────────┴───────────────────┘\n",
       "</pre>\n"
      ],
      "text/plain": [
       "┏━━━━━━━━━━━━━━━━━━━━━┳━━━━━━━━━━━━━━━━━━━┳━━━━━━━━━━━━┳━━━━━━━━━━━━━━━━━━━┓\n",
       "┃\u001b[1m \u001b[0m\u001b[1mLayer (type)       \u001b[0m\u001b[1m \u001b[0m┃\u001b[1m \u001b[0m\u001b[1mOutput Shape     \u001b[0m\u001b[1m \u001b[0m┃\u001b[1m \u001b[0m\u001b[1m   Param #\u001b[0m\u001b[1m \u001b[0m┃\u001b[1m \u001b[0m\u001b[1mConnected to     \u001b[0m\u001b[1m \u001b[0m┃\n",
       "┡━━━━━━━━━━━━━━━━━━━━━╇━━━━━━━━━━━━━━━━━━━╇━━━━━━━━━━━━╇━━━━━━━━━━━━━━━━━━━┩\n",
       "│ input_layer_1       │ (\u001b[38;5;45mNone\u001b[0m, \u001b[38;5;34m10\u001b[0m, \u001b[38;5;34m11\u001b[0m)    │          \u001b[38;5;34m0\u001b[0m │ -                 │\n",
       "│ (\u001b[38;5;33mInputLayer\u001b[0m)        │                   │            │                   │\n",
       "├─────────────────────┼───────────────────┼────────────┼───────────────────┤\n",
       "│ flatten_1 (\u001b[38;5;33mFlatten\u001b[0m) │ (\u001b[38;5;45mNone\u001b[0m, \u001b[38;5;34m110\u001b[0m)       │          \u001b[38;5;34m0\u001b[0m │ input_layer_1[\u001b[38;5;34m0\u001b[0m]… │\n",
       "├─────────────────────┼───────────────────┼────────────┼───────────────────┤\n",
       "│ dense_13 (\u001b[38;5;33mDense\u001b[0m)    │ (\u001b[38;5;45mNone\u001b[0m, \u001b[38;5;34m192\u001b[0m)       │     \u001b[38;5;34m21,312\u001b[0m │ flatten_1[\u001b[38;5;34m0\u001b[0m][\u001b[38;5;34m0\u001b[0m]   │\n",
       "├─────────────────────┼───────────────────┼────────────┼───────────────────┤\n",
       "│ dense_14 (\u001b[38;5;33mDense\u001b[0m)    │ (\u001b[38;5;45mNone\u001b[0m, \u001b[38;5;34m512\u001b[0m)       │     \u001b[38;5;34m98,816\u001b[0m │ dense_13[\u001b[38;5;34m0\u001b[0m][\u001b[38;5;34m0\u001b[0m]    │\n",
       "├─────────────────────┼───────────────────┼────────────┼───────────────────┤\n",
       "│ dense_15 (\u001b[38;5;33mDense\u001b[0m)    │ (\u001b[38;5;45mNone\u001b[0m, \u001b[38;5;34m480\u001b[0m)       │    \u001b[38;5;34m246,240\u001b[0m │ dense_14[\u001b[38;5;34m0\u001b[0m][\u001b[38;5;34m0\u001b[0m]    │\n",
       "├─────────────────────┼───────────────────┼────────────┼───────────────────┤\n",
       "│ dense_16 (\u001b[38;5;33mDense\u001b[0m)    │ (\u001b[38;5;45mNone\u001b[0m, \u001b[38;5;34m320\u001b[0m)       │    \u001b[38;5;34m153,920\u001b[0m │ dense_15[\u001b[38;5;34m0\u001b[0m][\u001b[38;5;34m0\u001b[0m]    │\n",
       "├─────────────────────┼───────────────────┼────────────┼───────────────────┤\n",
       "│ Verstellweg_X       │ (\u001b[38;5;45mNone\u001b[0m, \u001b[38;5;34m1\u001b[0m)         │        \u001b[38;5;34m321\u001b[0m │ dense_16[\u001b[38;5;34m0\u001b[0m][\u001b[38;5;34m0\u001b[0m]    │\n",
       "│ (\u001b[38;5;33mDense\u001b[0m)             │                   │            │                   │\n",
       "├─────────────────────┼───────────────────┼────────────┼───────────────────┤\n",
       "│ Verstellweg_Y       │ (\u001b[38;5;45mNone\u001b[0m, \u001b[38;5;34m1\u001b[0m)         │        \u001b[38;5;34m321\u001b[0m │ dense_16[\u001b[38;5;34m0\u001b[0m][\u001b[38;5;34m0\u001b[0m]    │\n",
       "│ (\u001b[38;5;33mDense\u001b[0m)             │                   │            │                   │\n",
       "├─────────────────────┼───────────────────┼────────────┼───────────────────┤\n",
       "│ Verstellweg_Phi     │ (\u001b[38;5;45mNone\u001b[0m, \u001b[38;5;34m1\u001b[0m)         │        \u001b[38;5;34m321\u001b[0m │ dense_16[\u001b[38;5;34m0\u001b[0m][\u001b[38;5;34m0\u001b[0m]    │\n",
       "│ (\u001b[38;5;33mDense\u001b[0m)             │                   │            │                   │\n",
       "└─────────────────────┴───────────────────┴────────────┴───────────────────┘\n"
      ]
     },
     "metadata": {},
     "output_type": "display_data"
    },
    {
     "data": {
      "text/html": [
       "<pre style=\"white-space:pre;overflow-x:auto;line-height:normal;font-family:Menlo,'DejaVu Sans Mono',consolas,'Courier New',monospace\"><span style=\"font-weight: bold\"> Total params: </span><span style=\"color: #00af00; text-decoration-color: #00af00\">521,251</span> (1.99 MB)\n",
       "</pre>\n"
      ],
      "text/plain": [
       "\u001b[1m Total params: \u001b[0m\u001b[38;5;34m521,251\u001b[0m (1.99 MB)\n"
      ]
     },
     "metadata": {},
     "output_type": "display_data"
    },
    {
     "data": {
      "text/html": [
       "<pre style=\"white-space:pre;overflow-x:auto;line-height:normal;font-family:Menlo,'DejaVu Sans Mono',consolas,'Courier New',monospace\"><span style=\"font-weight: bold\"> Trainable params: </span><span style=\"color: #00af00; text-decoration-color: #00af00\">521,251</span> (1.99 MB)\n",
       "</pre>\n"
      ],
      "text/plain": [
       "\u001b[1m Trainable params: \u001b[0m\u001b[38;5;34m521,251\u001b[0m (1.99 MB)\n"
      ]
     },
     "metadata": {},
     "output_type": "display_data"
    },
    {
     "data": {
      "text/html": [
       "<pre style=\"white-space:pre;overflow-x:auto;line-height:normal;font-family:Menlo,'DejaVu Sans Mono',consolas,'Courier New',monospace\"><span style=\"font-weight: bold\"> Non-trainable params: </span><span style=\"color: #00af00; text-decoration-color: #00af00\">0</span> (0.00 B)\n",
       "</pre>\n"
      ],
      "text/plain": [
       "\u001b[1m Non-trainable params: \u001b[0m\u001b[38;5;34m0\u001b[0m (0.00 B)\n"
      ]
     },
     "metadata": {},
     "output_type": "display_data"
    },
    {
     "name": "stderr",
     "output_type": "stream",
     "text": [
      "WARNING:absl:You are saving your model as an HDF5 file via `model.save()` or `keras.saving.save_model(model)`. This file format is considered legacy. We recommend using instead the native Keras format, e.g. `model.save('my_model.keras')` or `keras.saving.save_model(model, 'my_model.keras')`. \n"
     ]
    }
   ],
   "source": [
    "SPLITTED_DATA_FOLDER = \"build/window_split/synthetic-data-offset/1742239499\"\n",
    "\n",
    "CNNTuningExecution.execute(SPLITTED_DATA_FOLDER)"
   ]
  },
  {
   "cell_type": "markdown",
   "metadata": {},
   "source": [
    "TRAIN MODEL"
   ]
  },
  {
   "cell_type": "code",
   "execution_count": 7,
   "metadata": {},
   "outputs": [],
   "source": [
    "from src.execution import CNNTrainingExecution"
   ]
  },
  {
   "cell_type": "code",
   "execution_count": 8,
   "metadata": {},
   "outputs": [
    {
     "name": "stderr",
     "output_type": "stream",
     "text": [
      "WARNING:absl:Compiled the loaded model, but the compiled metrics have yet to be built. `model.compile_metrics` will be empty until you train or evaluate the model.\n"
     ]
    },
    {
     "name": "stdout",
     "output_type": "stream",
     "text": [
      "Epoch 1/30\n",
      "\u001b[1m1438/1438\u001b[0m \u001b[32m━━━━━━━━━━━━━━━━━━━━\u001b[0m\u001b[37m\u001b[0m \u001b[1m20s\u001b[0m 12ms/step - Verstellweg_Phi_loss: 0.4271 - Verstellweg_Phi_mae: 0.4271 - Verstellweg_X_loss: 0.0853 - Verstellweg_X_mae: 0.0853 - Verstellweg_Y_loss: 1.5924 - Verstellweg_Y_mae: 1.5924 - loss: 7.4681 - val_Verstellweg_Phi_loss: 0.2248 - val_Verstellweg_Phi_mae: 0.2249 - val_Verstellweg_X_loss: 0.0340 - val_Verstellweg_X_mae: 0.0340 - val_Verstellweg_Y_loss: 0.9680 - val_Verstellweg_Y_mae: 0.9684 - val_loss: 3.1941\n",
      "Epoch 2/30\n",
      "\u001b[1m1438/1438\u001b[0m \u001b[32m━━━━━━━━━━━━━━━━━━━━\u001b[0m\u001b[37m\u001b[0m \u001b[1m17s\u001b[0m 12ms/step - Verstellweg_Phi_loss: 0.1886 - Verstellweg_Phi_mae: 0.1886 - Verstellweg_X_loss: 0.0315 - Verstellweg_X_mae: 0.0315 - Verstellweg_Y_loss: 0.9462 - Verstellweg_Y_mae: 0.9462 - loss: 2.8039 - val_Verstellweg_Phi_loss: 0.2211 - val_Verstellweg_Phi_mae: 0.2210 - val_Verstellweg_X_loss: 0.0246 - val_Verstellweg_X_mae: 0.0246 - val_Verstellweg_Y_loss: 0.8795 - val_Verstellweg_Y_mae: 0.8800 - val_loss: 2.1285\n",
      "Epoch 3/30\n",
      "\u001b[1m1438/1438\u001b[0m \u001b[32m━━━━━━━━━━━━━━━━━━━━\u001b[0m\u001b[37m\u001b[0m \u001b[1m19s\u001b[0m 13ms/step - Verstellweg_Phi_loss: 0.1746 - Verstellweg_Phi_mae: 0.1746 - Verstellweg_X_loss: 0.0251 - Verstellweg_X_mae: 0.0251 - Verstellweg_Y_loss: 0.8565 - Verstellweg_Y_mae: 0.8565 - loss: 1.9545 - val_Verstellweg_Phi_loss: 0.1629 - val_Verstellweg_Phi_mae: 0.1629 - val_Verstellweg_X_loss: 0.0174 - val_Verstellweg_X_mae: 0.0174 - val_Verstellweg_Y_loss: 0.7753 - val_Verstellweg_Y_mae: 0.7753 - val_loss: 1.6296\n",
      "Epoch 4/30\n",
      "\u001b[1m1438/1438\u001b[0m \u001b[32m━━━━━━━━━━━━━━━━━━━━\u001b[0m\u001b[37m\u001b[0m \u001b[1m26s\u001b[0m 18ms/step - Verstellweg_Phi_loss: 0.1556 - Verstellweg_Phi_mae: 0.1556 - Verstellweg_X_loss: 0.0211 - Verstellweg_X_mae: 0.0211 - Verstellweg_Y_loss: 0.7737 - Verstellweg_Y_mae: 0.7737 - loss: 1.5798 - val_Verstellweg_Phi_loss: 0.1357 - val_Verstellweg_Phi_mae: 0.1357 - val_Verstellweg_X_loss: 0.0129 - val_Verstellweg_X_mae: 0.0129 - val_Verstellweg_Y_loss: 0.7927 - val_Verstellweg_Y_mae: 0.7925 - val_loss: 1.4700\n",
      "Epoch 5/30\n",
      "\u001b[1m1438/1438\u001b[0m \u001b[32m━━━━━━━━━━━━━━━━━━━━\u001b[0m\u001b[37m\u001b[0m \u001b[1m32s\u001b[0m 12ms/step - Verstellweg_Phi_loss: 0.1457 - Verstellweg_Phi_mae: 0.1457 - Verstellweg_X_loss: 0.0185 - Verstellweg_X_mae: 0.0185 - Verstellweg_Y_loss: 0.7358 - Verstellweg_Y_mae: 0.7358 - loss: 1.4063 - val_Verstellweg_Phi_loss: 0.1481 - val_Verstellweg_Phi_mae: 0.1481 - val_Verstellweg_X_loss: 0.0159 - val_Verstellweg_X_mae: 0.0159 - val_Verstellweg_Y_loss: 0.6846 - val_Verstellweg_Y_mae: 0.6845 - val_loss: 1.3101\n",
      "Epoch 6/30\n",
      "\u001b[1m1438/1438\u001b[0m \u001b[32m━━━━━━━━━━━━━━━━━━━━\u001b[0m\u001b[37m\u001b[0m \u001b[1m17s\u001b[0m 12ms/step - Verstellweg_Phi_loss: 0.1382 - Verstellweg_Phi_mae: 0.1382 - Verstellweg_X_loss: 0.0157 - Verstellweg_X_mae: 0.0157 - Verstellweg_Y_loss: 0.6642 - Verstellweg_Y_mae: 0.6642 - loss: 1.2665 - val_Verstellweg_Phi_loss: 0.1271 - val_Verstellweg_Phi_mae: 0.1272 - val_Verstellweg_X_loss: 0.0157 - val_Verstellweg_X_mae: 0.0157 - val_Verstellweg_Y_loss: 0.6212 - val_Verstellweg_Y_mae: 0.6212 - val_loss: 1.1798\n",
      "Epoch 7/30\n",
      "\u001b[1m1438/1438\u001b[0m \u001b[32m━━━━━━━━━━━━━━━━━━━━\u001b[0m\u001b[37m\u001b[0m \u001b[1m16s\u001b[0m 11ms/step - Verstellweg_Phi_loss: 0.1353 - Verstellweg_Phi_mae: 0.1353 - Verstellweg_X_loss: 0.0143 - Verstellweg_X_mae: 0.0143 - Verstellweg_Y_loss: 0.6195 - Verstellweg_Y_mae: 0.6195 - loss: 1.1759 - val_Verstellweg_Phi_loss: 0.1268 - val_Verstellweg_Phi_mae: 0.1268 - val_Verstellweg_X_loss: 0.0193 - val_Verstellweg_X_mae: 0.0193 - val_Verstellweg_Y_loss: 0.6075 - val_Verstellweg_Y_mae: 0.6075 - val_loss: 1.1377\n",
      "Epoch 8/30\n",
      "\u001b[1m1438/1438\u001b[0m \u001b[32m━━━━━━━━━━━━━━━━━━━━\u001b[0m\u001b[37m\u001b[0m \u001b[1m17s\u001b[0m 12ms/step - Verstellweg_Phi_loss: 0.1274 - Verstellweg_Phi_mae: 0.1274 - Verstellweg_X_loss: 0.0140 - Verstellweg_X_mae: 0.0140 - Verstellweg_Y_loss: 0.6167 - Verstellweg_Y_mae: 0.6167 - loss: 1.1359 - val_Verstellweg_Phi_loss: 0.1076 - val_Verstellweg_Phi_mae: 0.1076 - val_Verstellweg_X_loss: 0.0069 - val_Verstellweg_X_mae: 0.0069 - val_Verstellweg_Y_loss: 0.6242 - val_Verstellweg_Y_mae: 0.6242 - val_loss: 1.1013\n",
      "Epoch 9/30\n",
      "\u001b[1m1438/1438\u001b[0m \u001b[32m━━━━━━━━━━━━━━━━━━━━\u001b[0m\u001b[37m\u001b[0m \u001b[1m16s\u001b[0m 11ms/step - Verstellweg_Phi_loss: 0.1231 - Verstellweg_Phi_mae: 0.1231 - Verstellweg_X_loss: 0.0112 - Verstellweg_X_mae: 0.0112 - Verstellweg_Y_loss: 0.5750 - Verstellweg_Y_mae: 0.5750 - loss: 1.0660 - val_Verstellweg_Phi_loss: 0.1522 - val_Verstellweg_Phi_mae: 0.1523 - val_Verstellweg_X_loss: 0.0088 - val_Verstellweg_X_mae: 0.0088 - val_Verstellweg_Y_loss: 0.5536 - val_Verstellweg_Y_mae: 0.5537 - val_loss: 1.0586\n",
      "Epoch 10/30\n",
      "\u001b[1m1438/1438\u001b[0m \u001b[32m━━━━━━━━━━━━━━━━━━━━\u001b[0m\u001b[37m\u001b[0m \u001b[1m18s\u001b[0m 13ms/step - Verstellweg_Phi_loss: 0.1238 - Verstellweg_Phi_mae: 0.1238 - Verstellweg_X_loss: 0.0107 - Verstellweg_X_mae: 0.0107 - Verstellweg_Y_loss: 0.5680 - Verstellweg_Y_mae: 0.5680 - loss: 1.0425 - val_Verstellweg_Phi_loss: 0.1064 - val_Verstellweg_Phi_mae: 0.1065 - val_Verstellweg_X_loss: 0.0112 - val_Verstellweg_X_mae: 0.0112 - val_Verstellweg_Y_loss: 0.5641 - val_Verstellweg_Y_mae: 0.5642 - val_loss: 1.0107\n",
      "Epoch 11/30\n",
      "\u001b[1m1438/1438\u001b[0m \u001b[32m━━━━━━━━━━━━━━━━━━━━\u001b[0m\u001b[37m\u001b[0m \u001b[1m14s\u001b[0m 10ms/step - Verstellweg_Phi_loss: 0.1192 - Verstellweg_Phi_mae: 0.1192 - Verstellweg_X_loss: 0.0107 - Verstellweg_X_mae: 0.0107 - Verstellweg_Y_loss: 0.5532 - Verstellweg_Y_mae: 0.5532 - loss: 1.0084 - val_Verstellweg_Phi_loss: 0.1141 - val_Verstellweg_Phi_mae: 0.1141 - val_Verstellweg_X_loss: 0.0082 - val_Verstellweg_X_mae: 0.0082 - val_Verstellweg_Y_loss: 0.5334 - val_Verstellweg_Y_mae: 0.5332 - val_loss: 0.9726\n",
      "Epoch 12/30\n",
      "\u001b[1m1438/1438\u001b[0m \u001b[32m━━━━━━━━━━━━━━━━━━━━\u001b[0m\u001b[37m\u001b[0m \u001b[1m14s\u001b[0m 10ms/step - Verstellweg_Phi_loss: 0.1177 - Verstellweg_Phi_mae: 0.1177 - Verstellweg_X_loss: 0.0104 - Verstellweg_X_mae: 0.0104 - Verstellweg_Y_loss: 0.5505 - Verstellweg_Y_mae: 0.5505 - loss: 0.9926 - val_Verstellweg_Phi_loss: 0.1232 - val_Verstellweg_Phi_mae: 0.1232 - val_Verstellweg_X_loss: 0.0075 - val_Verstellweg_X_mae: 0.0075 - val_Verstellweg_Y_loss: 0.5893 - val_Verstellweg_Y_mae: 0.5891 - val_loss: 1.0268\n",
      "Epoch 13/30\n",
      "\u001b[1m1438/1438\u001b[0m \u001b[32m━━━━━━━━━━━━━━━━━━━━\u001b[0m\u001b[37m\u001b[0m \u001b[1m14s\u001b[0m 10ms/step - Verstellweg_Phi_loss: 0.1110 - Verstellweg_Phi_mae: 0.1110 - Verstellweg_X_loss: 0.0089 - Verstellweg_X_mae: 0.0089 - Verstellweg_Y_loss: 0.5300 - Verstellweg_Y_mae: 0.5300 - loss: 0.9533 - val_Verstellweg_Phi_loss: 0.1001 - val_Verstellweg_Phi_mae: 0.1001 - val_Verstellweg_X_loss: 0.0106 - val_Verstellweg_X_mae: 0.0106 - val_Verstellweg_Y_loss: 0.5583 - val_Verstellweg_Y_mae: 0.5583 - val_loss: 0.9658\n",
      "Epoch 14/30\n",
      "\u001b[1m1438/1438\u001b[0m \u001b[32m━━━━━━━━━━━━━━━━━━━━\u001b[0m\u001b[37m\u001b[0m \u001b[1m14s\u001b[0m 10ms/step - Verstellweg_Phi_loss: 0.1115 - Verstellweg_Phi_mae: 0.1115 - Verstellweg_X_loss: 0.0092 - Verstellweg_X_mae: 0.0092 - Verstellweg_Y_loss: 0.5211 - Verstellweg_Y_mae: 0.5211 - loss: 0.9359 - val_Verstellweg_Phi_loss: 0.1087 - val_Verstellweg_Phi_mae: 0.1087 - val_Verstellweg_X_loss: 0.0054 - val_Verstellweg_X_mae: 0.0054 - val_Verstellweg_Y_loss: 0.5141 - val_Verstellweg_Y_mae: 0.5140 - val_loss: 0.9158\n",
      "Epoch 15/30\n",
      "\u001b[1m1438/1438\u001b[0m \u001b[32m━━━━━━━━━━━━━━━━━━━━\u001b[0m\u001b[37m\u001b[0m \u001b[1m15s\u001b[0m 10ms/step - Verstellweg_Phi_loss: 0.1112 - Verstellweg_Phi_mae: 0.1112 - Verstellweg_X_loss: 0.0089 - Verstellweg_X_mae: 0.0089 - Verstellweg_Y_loss: 0.5293 - Verstellweg_Y_mae: 0.5293 - loss: 0.9354 - val_Verstellweg_Phi_loss: 0.1136 - val_Verstellweg_Phi_mae: 0.1136 - val_Verstellweg_X_loss: 0.0075 - val_Verstellweg_X_mae: 0.0075 - val_Verstellweg_Y_loss: 0.6410 - val_Verstellweg_Y_mae: 0.6409 - val_loss: 1.0416\n",
      "Epoch 16/30\n",
      "\u001b[1m1438/1438\u001b[0m \u001b[32m━━━━━━━━━━━━━━━━━━━━\u001b[0m\u001b[37m\u001b[0m \u001b[1m15s\u001b[0m 10ms/step - Verstellweg_Phi_loss: 0.1091 - Verstellweg_Phi_mae: 0.1091 - Verstellweg_X_loss: 0.0089 - Verstellweg_X_mae: 0.0089 - Verstellweg_Y_loss: 0.5275 - Verstellweg_Y_mae: 0.5275 - loss: 0.9241 - val_Verstellweg_Phi_loss: 0.1034 - val_Verstellweg_Phi_mae: 0.1035 - val_Verstellweg_X_loss: 0.0083 - val_Verstellweg_X_mae: 0.0082 - val_Verstellweg_Y_loss: 0.4784 - val_Verstellweg_Y_mae: 0.4783 - val_loss: 0.8637\n",
      "Epoch 17/30\n",
      "\u001b[1m1438/1438\u001b[0m \u001b[32m━━━━━━━━━━━━━━━━━━━━\u001b[0m\u001b[37m\u001b[0m \u001b[1m15s\u001b[0m 10ms/step - Verstellweg_Phi_loss: 0.1086 - Verstellweg_Phi_mae: 0.1086 - Verstellweg_X_loss: 0.0086 - Verstellweg_X_mae: 0.0086 - Verstellweg_Y_loss: 0.5047 - Verstellweg_Y_mae: 0.5047 - loss: 0.8939 - val_Verstellweg_Phi_loss: 0.1009 - val_Verstellweg_Phi_mae: 0.1009 - val_Verstellweg_X_loss: 0.0081 - val_Verstellweg_X_mae: 0.0081 - val_Verstellweg_Y_loss: 0.4903 - val_Verstellweg_Y_mae: 0.4904 - val_loss: 0.8675\n",
      "Epoch 18/30\n",
      "\u001b[1m1438/1438\u001b[0m \u001b[32m━━━━━━━━━━━━━━━━━━━━\u001b[0m\u001b[37m\u001b[0m \u001b[1m15s\u001b[0m 10ms/step - Verstellweg_Phi_loss: 0.1102 - Verstellweg_Phi_mae: 0.1102 - Verstellweg_X_loss: 0.0085 - Verstellweg_X_mae: 0.0085 - Verstellweg_Y_loss: 0.5079 - Verstellweg_Y_mae: 0.5079 - loss: 0.8932 - val_Verstellweg_Phi_loss: 0.1166 - val_Verstellweg_Phi_mae: 0.1166 - val_Verstellweg_X_loss: 0.0131 - val_Verstellweg_X_mae: 0.0131 - val_Verstellweg_Y_loss: 0.5046 - val_Verstellweg_Y_mae: 0.5045 - val_loss: 0.8963\n",
      "Epoch 19/30\n",
      "\u001b[1m1438/1438\u001b[0m \u001b[32m━━━━━━━━━━━━━━━━━━━━\u001b[0m\u001b[37m\u001b[0m \u001b[1m15s\u001b[0m 10ms/step - Verstellweg_Phi_loss: 0.1060 - Verstellweg_Phi_mae: 0.1060 - Verstellweg_X_loss: 0.0090 - Verstellweg_X_mae: 0.0090 - Verstellweg_Y_loss: 0.5048 - Verstellweg_Y_mae: 0.5048 - loss: 0.8804 - val_Verstellweg_Phi_loss: 0.1140 - val_Verstellweg_Phi_mae: 0.1141 - val_Verstellweg_X_loss: 0.0130 - val_Verstellweg_X_mae: 0.0130 - val_Verstellweg_Y_loss: 0.5079 - val_Verstellweg_Y_mae: 0.5079 - val_loss: 0.8932\n"
     ]
    },
    {
     "name": "stderr",
     "output_type": "stream",
     "text": [
      "WARNING:absl:You are saving your model as an HDF5 file via `model.save()` or `keras.saving.save_model(model)`. This file format is considered legacy. We recommend using instead the native Keras format, e.g. `model.save('my_model.keras')` or `keras.saving.save_model(model, 'my_model.keras')`. \n"
     ]
    }
   ],
   "source": [
    "TUNED_MODEL_FILE = \"build/tune/synthetic-data-offset/1742239520/cnn-synthetic-data-offset.h5\"\n",
    "DATA_FILE = \"build/window_split/synthetic-data-offset/1742239499\"\n",
    "SAVE_FILENMAME = \"cnn-synthetic-offset.h5\" # With file extension\n",
    "LEARNING_RATE = 0.00029335291375872573\n",
    "\n",
    "CNNTrainingExecution.execute(TUNED_MODEL_FILE, DATA_FILE, SAVE_FILENMAME, LEARNING_RATE)"
   ]
  },
  {
   "cell_type": "markdown",
   "metadata": {},
   "source": [
    "VALIDATE MODEL"
   ]
  },
  {
   "cell_type": "code",
   "execution_count": 9,
   "metadata": {},
   "outputs": [],
   "source": [
    "from src.execution import CNNValidationExecution "
   ]
  },
  {
   "cell_type": "code",
   "execution_count": 10,
   "metadata": {},
   "outputs": [
    {
     "name": "stderr",
     "output_type": "stream",
     "text": [
      "WARNING:absl:Compiled the loaded model, but the compiled metrics have yet to be built. `model.compile_metrics` will be empty until you train or evaluate the model.\n"
     ]
    },
    {
     "name": "stdout",
     "output_type": "stream",
     "text": [
      "\u001b[1m3575/3575\u001b[0m \u001b[32m━━━━━━━━━━━━━━━━━━━━\u001b[0m\u001b[37m\u001b[0m \u001b[1m14s\u001b[0m 4ms/step - Verstellweg_Phi_loss: 2.4505 - Verstellweg_Phi_mean_absolute_error: 2.4505 - Verstellweg_X_loss: 0.1676 - Verstellweg_X_mean_absolute_error: 0.1676 - Verstellweg_Y_loss: 3.9079 - Verstellweg_Y_mean_absolute_error: 3.9079 - loss: 6.7842\n"
     ]
    }
   ],
   "source": [
    "MODEL_FOLDER = \"build/train/cnn-synthetic-data-offset/1742244525\"\n",
    "DATA_FOLDER = \"build/window_split/real-data/1741957181\"\n",
    "\n",
    "CNNValidationExecution.execute(MODEL_FOLDER, DATA_FOLDER)"
   ]
  },
  {
   "cell_type": "code",
   "execution_count": null,
   "metadata": {},
   "outputs": [
    {
     "name": "stderr",
     "output_type": "stream",
     "text": [
      "WARNING:absl:Compiled the loaded model, but the compiled metrics have yet to be built. `model.compile_metrics` will be empty until you train or evaluate the model.\n"
     ]
    },
    {
     "data": {
      "text/html": [
       "<pre style=\"white-space:pre;overflow-x:auto;line-height:normal;font-family:Menlo,'DejaVu Sans Mono',consolas,'Courier New',monospace\"><span style=\"font-weight: bold\">Model: \"functional_1\"</span>\n",
       "</pre>\n"
      ],
      "text/plain": [
       "\u001b[1mModel: \"functional_1\"\u001b[0m\n"
      ]
     },
     "metadata": {},
     "output_type": "display_data"
    },
    {
     "data": {
      "text/html": [
       "<pre style=\"white-space:pre;overflow-x:auto;line-height:normal;font-family:Menlo,'DejaVu Sans Mono',consolas,'Courier New',monospace\">┏━━━━━━━━━━━━━━━━━━━━━┳━━━━━━━━━━━━━━━━━━━┳━━━━━━━━━━━━┳━━━━━━━━━━━━━━━━━━━┓\n",
       "┃<span style=\"font-weight: bold\"> Layer (type)        </span>┃<span style=\"font-weight: bold\"> Output Shape      </span>┃<span style=\"font-weight: bold\">    Param # </span>┃<span style=\"font-weight: bold\"> Connected to      </span>┃\n",
       "┡━━━━━━━━━━━━━━━━━━━━━╇━━━━━━━━━━━━━━━━━━━╇━━━━━━━━━━━━╇━━━━━━━━━━━━━━━━━━━┩\n",
       "│ input_layer_1       │ (<span style=\"color: #00d7ff; text-decoration-color: #00d7ff\">None</span>, <span style=\"color: #00af00; text-decoration-color: #00af00\">10</span>, <span style=\"color: #00af00; text-decoration-color: #00af00\">11</span>)    │          <span style=\"color: #00af00; text-decoration-color: #00af00\">0</span> │ -                 │\n",
       "│ (<span style=\"color: #0087ff; text-decoration-color: #0087ff\">InputLayer</span>)        │                   │            │                   │\n",
       "├─────────────────────┼───────────────────┼────────────┼───────────────────┤\n",
       "│ conv1d_4 (<span style=\"color: #0087ff; text-decoration-color: #0087ff\">Conv1D</span>)   │ (<span style=\"color: #00d7ff; text-decoration-color: #00d7ff\">None</span>, <span style=\"color: #00af00; text-decoration-color: #00af00\">10</span>, <span style=\"color: #00af00; text-decoration-color: #00af00\">6</span>)     │        <span style=\"color: #00af00; text-decoration-color: #00af00\">138</span> │ input_layer_1[<span style=\"color: #00af00; text-decoration-color: #00af00\">0</span>]… │\n",
       "├─────────────────────┼───────────────────┼────────────┼───────────────────┤\n",
       "│ max_pooling1d_4     │ (<span style=\"color: #00d7ff; text-decoration-color: #00d7ff\">None</span>, <span style=\"color: #00af00; text-decoration-color: #00af00\">5</span>, <span style=\"color: #00af00; text-decoration-color: #00af00\">6</span>)      │          <span style=\"color: #00af00; text-decoration-color: #00af00\">0</span> │ conv1d_4[<span style=\"color: #00af00; text-decoration-color: #00af00\">0</span>][<span style=\"color: #00af00; text-decoration-color: #00af00\">0</span>]    │\n",
       "│ (<span style=\"color: #0087ff; text-decoration-color: #0087ff\">MaxPooling1D</span>)      │                   │            │                   │\n",
       "├─────────────────────┼───────────────────┼────────────┼───────────────────┤\n",
       "│ flatten_1 (<span style=\"color: #0087ff; text-decoration-color: #0087ff\">Flatten</span>) │ (<span style=\"color: #00d7ff; text-decoration-color: #00d7ff\">None</span>, <span style=\"color: #00af00; text-decoration-color: #00af00\">30</span>)        │          <span style=\"color: #00af00; text-decoration-color: #00af00\">0</span> │ max_pooling1d_4[<span style=\"color: #00af00; text-decoration-color: #00af00\">…</span> │\n",
       "├─────────────────────┼───────────────────┼────────────┼───────────────────┤\n",
       "│ dense_6 (<span style=\"color: #0087ff; text-decoration-color: #0087ff\">Dense</span>)     │ (<span style=\"color: #00d7ff; text-decoration-color: #00d7ff\">None</span>, <span style=\"color: #00af00; text-decoration-color: #00af00\">352</span>)       │     <span style=\"color: #00af00; text-decoration-color: #00af00\">10,912</span> │ flatten_1[<span style=\"color: #00af00; text-decoration-color: #00af00\">0</span>][<span style=\"color: #00af00; text-decoration-color: #00af00\">0</span>]   │\n",
       "├─────────────────────┼───────────────────┼────────────┼───────────────────┤\n",
       "│ dense_7 (<span style=\"color: #0087ff; text-decoration-color: #0087ff\">Dense</span>)     │ (<span style=\"color: #00d7ff; text-decoration-color: #00d7ff\">None</span>, <span style=\"color: #00af00; text-decoration-color: #00af00\">320</span>)       │    <span style=\"color: #00af00; text-decoration-color: #00af00\">112,960</span> │ dense_6[<span style=\"color: #00af00; text-decoration-color: #00af00\">0</span>][<span style=\"color: #00af00; text-decoration-color: #00af00\">0</span>]     │\n",
       "├─────────────────────┼───────────────────┼────────────┼───────────────────┤\n",
       "│ dense_8 (<span style=\"color: #0087ff; text-decoration-color: #0087ff\">Dense</span>)     │ (<span style=\"color: #00d7ff; text-decoration-color: #00d7ff\">None</span>, <span style=\"color: #00af00; text-decoration-color: #00af00\">224</span>)       │     <span style=\"color: #00af00; text-decoration-color: #00af00\">71,904</span> │ dense_7[<span style=\"color: #00af00; text-decoration-color: #00af00\">0</span>][<span style=\"color: #00af00; text-decoration-color: #00af00\">0</span>]     │\n",
       "├─────────────────────┼───────────────────┼────────────┼───────────────────┤\n",
       "│ dense_9 (<span style=\"color: #0087ff; text-decoration-color: #0087ff\">Dense</span>)     │ (<span style=\"color: #00d7ff; text-decoration-color: #00d7ff\">None</span>, <span style=\"color: #00af00; text-decoration-color: #00af00\">256</span>)       │     <span style=\"color: #00af00; text-decoration-color: #00af00\">57,600</span> │ dense_8[<span style=\"color: #00af00; text-decoration-color: #00af00\">0</span>][<span style=\"color: #00af00; text-decoration-color: #00af00\">0</span>]     │\n",
       "├─────────────────────┼───────────────────┼────────────┼───────────────────┤\n",
       "│ dense_10 (<span style=\"color: #0087ff; text-decoration-color: #0087ff\">Dense</span>)    │ (<span style=\"color: #00d7ff; text-decoration-color: #00d7ff\">None</span>, <span style=\"color: #00af00; text-decoration-color: #00af00\">416</span>)       │    <span style=\"color: #00af00; text-decoration-color: #00af00\">106,912</span> │ dense_9[<span style=\"color: #00af00; text-decoration-color: #00af00\">0</span>][<span style=\"color: #00af00; text-decoration-color: #00af00\">0</span>]     │\n",
       "├─────────────────────┼───────────────────┼────────────┼───────────────────┤\n",
       "│ dense_11 (<span style=\"color: #0087ff; text-decoration-color: #0087ff\">Dense</span>)    │ (<span style=\"color: #00d7ff; text-decoration-color: #00d7ff\">None</span>, <span style=\"color: #00af00; text-decoration-color: #00af00\">448</span>)       │    <span style=\"color: #00af00; text-decoration-color: #00af00\">186,816</span> │ dense_10[<span style=\"color: #00af00; text-decoration-color: #00af00\">0</span>][<span style=\"color: #00af00; text-decoration-color: #00af00\">0</span>]    │\n",
       "├─────────────────────┼───────────────────┼────────────┼───────────────────┤\n",
       "│ Verstellweg_X       │ (<span style=\"color: #00d7ff; text-decoration-color: #00d7ff\">None</span>, <span style=\"color: #00af00; text-decoration-color: #00af00\">1</span>)         │        <span style=\"color: #00af00; text-decoration-color: #00af00\">449</span> │ dense_11[<span style=\"color: #00af00; text-decoration-color: #00af00\">0</span>][<span style=\"color: #00af00; text-decoration-color: #00af00\">0</span>]    │\n",
       "│ (<span style=\"color: #0087ff; text-decoration-color: #0087ff\">Dense</span>)             │                   │            │                   │\n",
       "├─────────────────────┼───────────────────┼────────────┼───────────────────┤\n",
       "│ Verstellweg_Y       │ (<span style=\"color: #00d7ff; text-decoration-color: #00d7ff\">None</span>, <span style=\"color: #00af00; text-decoration-color: #00af00\">1</span>)         │        <span style=\"color: #00af00; text-decoration-color: #00af00\">449</span> │ dense_11[<span style=\"color: #00af00; text-decoration-color: #00af00\">0</span>][<span style=\"color: #00af00; text-decoration-color: #00af00\">0</span>]    │\n",
       "│ (<span style=\"color: #0087ff; text-decoration-color: #0087ff\">Dense</span>)             │                   │            │                   │\n",
       "├─────────────────────┼───────────────────┼────────────┼───────────────────┤\n",
       "│ Verstellweg_Phi     │ (<span style=\"color: #00d7ff; text-decoration-color: #00d7ff\">None</span>, <span style=\"color: #00af00; text-decoration-color: #00af00\">1</span>)         │        <span style=\"color: #00af00; text-decoration-color: #00af00\">449</span> │ dense_11[<span style=\"color: #00af00; text-decoration-color: #00af00\">0</span>][<span style=\"color: #00af00; text-decoration-color: #00af00\">0</span>]    │\n",
       "│ (<span style=\"color: #0087ff; text-decoration-color: #0087ff\">Dense</span>)             │                   │            │                   │\n",
       "└─────────────────────┴───────────────────┴────────────┴───────────────────┘\n",
       "</pre>\n"
      ],
      "text/plain": [
       "┏━━━━━━━━━━━━━━━━━━━━━┳━━━━━━━━━━━━━━━━━━━┳━━━━━━━━━━━━┳━━━━━━━━━━━━━━━━━━━┓\n",
       "┃\u001b[1m \u001b[0m\u001b[1mLayer (type)       \u001b[0m\u001b[1m \u001b[0m┃\u001b[1m \u001b[0m\u001b[1mOutput Shape     \u001b[0m\u001b[1m \u001b[0m┃\u001b[1m \u001b[0m\u001b[1m   Param #\u001b[0m\u001b[1m \u001b[0m┃\u001b[1m \u001b[0m\u001b[1mConnected to     \u001b[0m\u001b[1m \u001b[0m┃\n",
       "┡━━━━━━━━━━━━━━━━━━━━━╇━━━━━━━━━━━━━━━━━━━╇━━━━━━━━━━━━╇━━━━━━━━━━━━━━━━━━━┩\n",
       "│ input_layer_1       │ (\u001b[38;5;45mNone\u001b[0m, \u001b[38;5;34m10\u001b[0m, \u001b[38;5;34m11\u001b[0m)    │          \u001b[38;5;34m0\u001b[0m │ -                 │\n",
       "│ (\u001b[38;5;33mInputLayer\u001b[0m)        │                   │            │                   │\n",
       "├─────────────────────┼───────────────────┼────────────┼───────────────────┤\n",
       "│ conv1d_4 (\u001b[38;5;33mConv1D\u001b[0m)   │ (\u001b[38;5;45mNone\u001b[0m, \u001b[38;5;34m10\u001b[0m, \u001b[38;5;34m6\u001b[0m)     │        \u001b[38;5;34m138\u001b[0m │ input_layer_1[\u001b[38;5;34m0\u001b[0m]… │\n",
       "├─────────────────────┼───────────────────┼────────────┼───────────────────┤\n",
       "│ max_pooling1d_4     │ (\u001b[38;5;45mNone\u001b[0m, \u001b[38;5;34m5\u001b[0m, \u001b[38;5;34m6\u001b[0m)      │          \u001b[38;5;34m0\u001b[0m │ conv1d_4[\u001b[38;5;34m0\u001b[0m][\u001b[38;5;34m0\u001b[0m]    │\n",
       "│ (\u001b[38;5;33mMaxPooling1D\u001b[0m)      │                   │            │                   │\n",
       "├─────────────────────┼───────────────────┼────────────┼───────────────────┤\n",
       "│ flatten_1 (\u001b[38;5;33mFlatten\u001b[0m) │ (\u001b[38;5;45mNone\u001b[0m, \u001b[38;5;34m30\u001b[0m)        │          \u001b[38;5;34m0\u001b[0m │ max_pooling1d_4[\u001b[38;5;34m…\u001b[0m │\n",
       "├─────────────────────┼───────────────────┼────────────┼───────────────────┤\n",
       "│ dense_6 (\u001b[38;5;33mDense\u001b[0m)     │ (\u001b[38;5;45mNone\u001b[0m, \u001b[38;5;34m352\u001b[0m)       │     \u001b[38;5;34m10,912\u001b[0m │ flatten_1[\u001b[38;5;34m0\u001b[0m][\u001b[38;5;34m0\u001b[0m]   │\n",
       "├─────────────────────┼───────────────────┼────────────┼───────────────────┤\n",
       "│ dense_7 (\u001b[38;5;33mDense\u001b[0m)     │ (\u001b[38;5;45mNone\u001b[0m, \u001b[38;5;34m320\u001b[0m)       │    \u001b[38;5;34m112,960\u001b[0m │ dense_6[\u001b[38;5;34m0\u001b[0m][\u001b[38;5;34m0\u001b[0m]     │\n",
       "├─────────────────────┼───────────────────┼────────────┼───────────────────┤\n",
       "│ dense_8 (\u001b[38;5;33mDense\u001b[0m)     │ (\u001b[38;5;45mNone\u001b[0m, \u001b[38;5;34m224\u001b[0m)       │     \u001b[38;5;34m71,904\u001b[0m │ dense_7[\u001b[38;5;34m0\u001b[0m][\u001b[38;5;34m0\u001b[0m]     │\n",
       "├─────────────────────┼───────────────────┼────────────┼───────────────────┤\n",
       "│ dense_9 (\u001b[38;5;33mDense\u001b[0m)     │ (\u001b[38;5;45mNone\u001b[0m, \u001b[38;5;34m256\u001b[0m)       │     \u001b[38;5;34m57,600\u001b[0m │ dense_8[\u001b[38;5;34m0\u001b[0m][\u001b[38;5;34m0\u001b[0m]     │\n",
       "├─────────────────────┼───────────────────┼────────────┼───────────────────┤\n",
       "│ dense_10 (\u001b[38;5;33mDense\u001b[0m)    │ (\u001b[38;5;45mNone\u001b[0m, \u001b[38;5;34m416\u001b[0m)       │    \u001b[38;5;34m106,912\u001b[0m │ dense_9[\u001b[38;5;34m0\u001b[0m][\u001b[38;5;34m0\u001b[0m]     │\n",
       "├─────────────────────┼───────────────────┼────────────┼───────────────────┤\n",
       "│ dense_11 (\u001b[38;5;33mDense\u001b[0m)    │ (\u001b[38;5;45mNone\u001b[0m, \u001b[38;5;34m448\u001b[0m)       │    \u001b[38;5;34m186,816\u001b[0m │ dense_10[\u001b[38;5;34m0\u001b[0m][\u001b[38;5;34m0\u001b[0m]    │\n",
       "├─────────────────────┼───────────────────┼────────────┼───────────────────┤\n",
       "│ Verstellweg_X       │ (\u001b[38;5;45mNone\u001b[0m, \u001b[38;5;34m1\u001b[0m)         │        \u001b[38;5;34m449\u001b[0m │ dense_11[\u001b[38;5;34m0\u001b[0m][\u001b[38;5;34m0\u001b[0m]    │\n",
       "│ (\u001b[38;5;33mDense\u001b[0m)             │                   │            │                   │\n",
       "├─────────────────────┼───────────────────┼────────────┼───────────────────┤\n",
       "│ Verstellweg_Y       │ (\u001b[38;5;45mNone\u001b[0m, \u001b[38;5;34m1\u001b[0m)         │        \u001b[38;5;34m449\u001b[0m │ dense_11[\u001b[38;5;34m0\u001b[0m][\u001b[38;5;34m0\u001b[0m]    │\n",
       "│ (\u001b[38;5;33mDense\u001b[0m)             │                   │            │                   │\n",
       "├─────────────────────┼───────────────────┼────────────┼───────────────────┤\n",
       "│ Verstellweg_Phi     │ (\u001b[38;5;45mNone\u001b[0m, \u001b[38;5;34m1\u001b[0m)         │        \u001b[38;5;34m449\u001b[0m │ dense_11[\u001b[38;5;34m0\u001b[0m][\u001b[38;5;34m0\u001b[0m]    │\n",
       "│ (\u001b[38;5;33mDense\u001b[0m)             │                   │            │                   │\n",
       "└─────────────────────┴───────────────────┴────────────┴───────────────────┘\n"
      ]
     },
     "metadata": {},
     "output_type": "display_data"
    },
    {
     "data": {
      "text/html": [
       "<pre style=\"white-space:pre;overflow-x:auto;line-height:normal;font-family:Menlo,'DejaVu Sans Mono',consolas,'Courier New',monospace\"><span style=\"font-weight: bold\"> Total params: </span><span style=\"color: #00af00; text-decoration-color: #00af00\">548,591</span> (2.09 MB)\n",
       "</pre>\n"
      ],
      "text/plain": [
       "\u001b[1m Total params: \u001b[0m\u001b[38;5;34m548,591\u001b[0m (2.09 MB)\n"
      ]
     },
     "metadata": {},
     "output_type": "display_data"
    },
    {
     "data": {
      "text/html": [
       "<pre style=\"white-space:pre;overflow-x:auto;line-height:normal;font-family:Menlo,'DejaVu Sans Mono',consolas,'Courier New',monospace\"><span style=\"font-weight: bold\"> Trainable params: </span><span style=\"color: #00af00; text-decoration-color: #00af00\">548,589</span> (2.09 MB)\n",
       "</pre>\n"
      ],
      "text/plain": [
       "\u001b[1m Trainable params: \u001b[0m\u001b[38;5;34m548,589\u001b[0m (2.09 MB)\n"
      ]
     },
     "metadata": {},
     "output_type": "display_data"
    },
    {
     "data": {
      "text/html": [
       "<pre style=\"white-space:pre;overflow-x:auto;line-height:normal;font-family:Menlo,'DejaVu Sans Mono',consolas,'Courier New',monospace\"><span style=\"font-weight: bold\"> Non-trainable params: </span><span style=\"color: #00af00; text-decoration-color: #00af00\">0</span> (0.00 B)\n",
       "</pre>\n"
      ],
      "text/plain": [
       "\u001b[1m Non-trainable params: \u001b[0m\u001b[38;5;34m0\u001b[0m (0.00 B)\n"
      ]
     },
     "metadata": {},
     "output_type": "display_data"
    },
    {
     "data": {
      "text/html": [
       "<pre style=\"white-space:pre;overflow-x:auto;line-height:normal;font-family:Menlo,'DejaVu Sans Mono',consolas,'Courier New',monospace\"><span style=\"font-weight: bold\"> Optimizer params: </span><span style=\"color: #00af00; text-decoration-color: #00af00\">2</span> (12.00 B)\n",
       "</pre>\n"
      ],
      "text/plain": [
       "\u001b[1m Optimizer params: \u001b[0m\u001b[38;5;34m2\u001b[0m (12.00 B)\n"
      ]
     },
     "metadata": {},
     "output_type": "display_data"
    },
    {
     "name": "stdout",
     "output_type": "stream",
     "text": [
      "input_layer_1 Frozen\n",
      "conv1d_4 Frozen\n",
      "max_pooling1d_4 Frozen\n",
      "flatten_1 Trainable\n",
      "dense_6 Trainable\n",
      "dense_7 Trainable\n",
      "dense_8 Trainable\n",
      "dense_9 Trainable\n",
      "dense_10 Trainable\n",
      "dense_11 Trainable\n",
      "Verstellweg_X Trainable\n",
      "Verstellweg_Y Trainable\n",
      "Verstellweg_Phi Trainable\n"
     ]
    }
   ],
   "source": [
    "import keras\n",
    "\n",
    "# Load your pre-trained model\n",
    "model = keras.models.load_model(\"build/train/cnn-synthetic/1741910385/cnn.h5\")  # Replace with your file path\n",
    "\n",
    "# Print model summary to understand the layer structure\n",
    "model.summary()\n",
    "\n",
    "# Freeze all convolutional and pooling layers\n",
    "for layer in model.layers[:3]:  # Freezing first 3 layers (Conv1D + MaxPooling + Flatten)\n",
    "    layer.trainable = False\n",
    "\n",
    "# Keep the Dense layers trainable\n",
    "for layer in model.layers[3:]:  # Unfreezing dense layers\n",
    "    layer.trainable = True\n",
    "\n",
    "# Print trainable status of layers\n",
    "for layer in model.layers:\n",
    "    print(layer.name, \"Trainable\" if layer.trainable else \"Frozen\")\n",
    "\n",
    "\n",
    "model.compile(optimizer=Adam(learning_rate=0.0001),  # Lower learning rate for fine-tuning\n",
    "              loss=\"mse\",  # Assuming regression output\n",
    "              metrics=[\"mae\"])"
   ]
  }
 ],
 "metadata": {
  "kernelspec": {
   "display_name": "adp",
   "language": "python",
   "name": "python3"
  },
  "language_info": {
   "codemirror_mode": {
    "name": "ipython",
    "version": 3
   },
   "file_extension": ".py",
   "mimetype": "text/x-python",
   "name": "python",
   "nbconvert_exporter": "python",
   "pygments_lexer": "ipython3",
   "version": "3.12.3"
  }
 },
 "nbformat": 4,
 "nbformat_minor": 2
}
